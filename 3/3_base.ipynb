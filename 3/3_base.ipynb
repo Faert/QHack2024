{
 "cells": [
  {
   "attachments": {},
   "cell_type": "markdown",
   "metadata": {
    "id": "dzUetH28tKkc"
   },
   "source": [
    "#  Classical-quantum Neural Network for binary classification"
   ]
  },
  {
   "cell_type": "code",
   "execution_count": 1,
   "metadata": {
    "id": "WIUCtTrbtKkc"
   },
   "outputs": [],
   "source": [
    "import torch\n",
    "import torch.nn as nn\n",
    "import torch.nn.functional as F\n",
    "\n",
    "from sklearn.feature_extraction.text import CountVectorizer\n",
    "from sklearn.linear_model import LogisticRegression\n",
    "from sklearn.naive_bayes import GaussianNB\n",
    "from sklearn import svm\n",
    "\n",
    "import pandas as pd\n",
    "import matplotlib.pyplot as plt\n",
    "import numpy as np\n",
    "import os, random, json, math\n",
    "from tqdm import tqdm\n",
    "import nltk\n",
    "from nltk.corpus import stopwords\n",
    "import re"
   ]
  },
  {
   "cell_type": "markdown",
   "metadata": {},
   "source": [
    "## Data loading"
   ]
  },
  {
   "cell_type": "code",
   "execution_count": 2,
   "metadata": {},
   "outputs": [],
   "source": [
    "num_classes = 2\n",
    "max_image_in_class = 300\n",
    "train_part = 0.8\n",
    "val_part = 0.5 # from 1 - train_part\n",
    "\n",
    "# hyper parameters\n",
    "train_flag = False\n",
    "epochs=30\n",
    "initial_lr = 0.0005\n",
    "w_decay = 0.0001\n",
    "q_reps = 3"
   ]
  },
  {
   "cell_type": "code",
   "execution_count": 3,
   "metadata": {},
   "outputs": [],
   "source": [
    "dataset_path = 'Dataset/'\n",
    "dataset_name = 'task-3-dataset.csv'\n",
    "df = pd.read_csv(dataset_path+dataset_name)\n",
    "text = list(df['отзывы'])"
   ]
  },
  {
   "cell_type": "code",
   "execution_count": 4,
   "metadata": {},
   "outputs": [],
   "source": [
    "lemmatize = nltk.WordNetLemmatizer()\n",
    "stop_words = set(stopwords.words('russian'))\n",
    "new_text = []\n",
    "for i in df['отзывы']:\n",
    "    text_ = re.sub(\"[^a-zA-Zа-яА-Я1-9]\",\" \",i) \n",
    "    text_ = nltk.word_tokenize(text_, language='russian')\n",
    "    text_ = [word for word in text_ if word not in stop_words]\n",
    "    text_ = [lemmatize.lemmatize(word) for word in text_]\n",
    "    text_ = \" \".join(text_)\n",
    "    new_text.append(text_)"
   ]
  },
  {
   "cell_type": "code",
   "execution_count": 5,
   "metadata": {},
   "outputs": [
    {
     "name": "stdout",
     "output_type": "stream",
     "text": [
      "1160\n"
     ]
    }
   ],
   "source": [
    "count = CountVectorizer(stop_words=\"english\")\n",
    "matrix = count.fit_transform(new_text).toarray()\n",
    "max_len = len(matrix[0])\n",
    "print(max_len)"
   ]
  },
  {
   "cell_type": "code",
   "execution_count": 6,
   "metadata": {},
   "outputs": [],
   "source": [
    "d = {'text_vec': matrix.tolist(), 'val': [1 if x=='+' else 0 for x in df['разметка']]}\n",
    "df2 = pd.DataFrame(data=d)\n",
    "\n",
    "df_train = df2[:int(len(df2)*0.8)]\n",
    "df_test = df2.drop(df_train.index)\n",
    "df_val = df_test[:int(len(df_test)*0.5)]\n",
    "df_test = df_test.drop(df_val.index)"
   ]
  },
  {
   "cell_type": "markdown",
   "metadata": {},
   "source": [
    "## Classical methods"
   ]
  },
  {
   "cell_type": "code",
   "execution_count": 8,
   "metadata": {},
   "outputs": [
    {
     "data": {
      "text/plain": [
       "0.7142857142857143"
      ]
     },
     "execution_count": 8,
     "metadata": {},
     "output_type": "execute_result"
    }
   ],
   "source": [
    "logreg = LogisticRegression()\n",
    "result_logreg = logreg.fit(df_train['text_vec'].tolist(), df_train['val'].tolist())\n",
    "logreg.score(df_test['text_vec'].tolist(),df_test['val'].tolist())"
   ]
  },
  {
   "cell_type": "code",
   "execution_count": 40,
   "metadata": {},
   "outputs": [
    {
     "data": {
      "text/plain": [
       "0.8095238095238095"
      ]
     },
     "execution_count": 40,
     "metadata": {},
     "output_type": "execute_result"
    }
   ],
   "source": [
    "nb = GaussianNB()\n",
    "result_bayes = nb.fit(df_train['text_vec'].tolist(), df_train['val'].tolist())\n",
    "nb.score(df_test['text_vec'].tolist(),df_test['val'].tolist())"
   ]
  },
  {
   "cell_type": "code",
   "execution_count": 41,
   "metadata": {},
   "outputs": [
    {
     "data": {
      "text/plain": [
       "0.7619047619047619"
      ]
     },
     "execution_count": 41,
     "metadata": {},
     "output_type": "execute_result"
    }
   ],
   "source": [
    "metodsvm = svm.SVC(kernel='sigmoid')\n",
    "result_svm = metodsvm.fit(df_train['text_vec'].tolist(), df_train['val'].tolist())\n",
    "metodsvm.score(df_test['text_vec'].tolist(),df_test['val'].tolist())"
   ]
  },
  {
   "cell_type": "markdown",
   "metadata": {},
   "source": [
    "## The Network"
   ]
  },
  {
   "cell_type": "code",
   "execution_count": 42,
   "metadata": {},
   "outputs": [
    {
     "name": "stdout",
     "output_type": "stream",
     "text": [
      "QNet(\n",
      "  (layer_2): Linear(in_features=1160, out_features=256, bias=True)\n",
      "  (layer_3): Linear(in_features=256, out_features=64, bias=True)\n",
      "  (layer_qin): Linear(in_features=64, out_features=2, bias=True)\n",
      "  (layer_qout): Linear(in_features=2, out_features=1, bias=True)\n",
      "  (relu): ReLU()\n",
      "  (sigmoid): Sigmoid()\n",
      "  (dropout): Dropout(p=0.1, inplace=False)\n",
      ")\n"
     ]
    }
   ],
   "source": [
    "n_input_dim = max_len\n",
    "n_hidden2 = 256\n",
    "n_hidden3 = 64\n",
    "num_q = num_classes\n",
    "n_output =  1\n",
    "\n",
    "\n",
    "class QNet(nn.Module):\n",
    "    def __init__(self):\n",
    "        super(QNet, self).__init__()\n",
    "        self.layer_2 = nn.Linear(n_input_dim, n_hidden2)\n",
    "        self.layer_3 = nn.Linear(n_hidden2, n_hidden3)\n",
    "        self.layer_qin = nn.Linear(n_hidden3, num_q)\n",
    "        self.layer_qout = nn.Linear(num_q, n_output)\n",
    "        \n",
    "        self.relu = nn.ReLU()\n",
    "        self.sigmoid =  nn.Sigmoid()\n",
    "        self.dropout = nn.Dropout(p=0.1)\n",
    "        \n",
    "        \n",
    "    def forward(self, inputs):\n",
    "        x = self.relu(self.layer_2(inputs))\n",
    "        x = self.dropout(x)\n",
    "        x = self.relu(self.layer_3(x))\n",
    "        x = self.dropout(x)\n",
    "        x = self.relu(self.layer_qin(x))\n",
    "        x = self.sigmoid(self.layer_qout(x))\n",
    "        \n",
    "        return x\n",
    "    \n",
    "\n",
    "model = QNet()\n",
    "print(model)"
   ]
  },
  {
   "cell_type": "code",
   "execution_count": 43,
   "metadata": {
    "colab": {
     "base_uri": "https://localhost:8080/",
     "height": 437
    },
    "id": "jA8-TNMwtKks",
    "outputId": "a7c4c711-bc23-4835-e1a8-0d9232d8b050"
   },
   "outputs": [],
   "source": [
    "optimizer = torch.optim.Adam(model.parameters(), lr=initial_lr, weight_decay=w_decay, amsgrad=True)\n",
    "loss_fn = nn.BCELoss()\n",
    "def train_loop(dataloader, model, loss_fn, optimizer, history):\n",
    "    size = len(dataloader)\n",
    "\n",
    "    loss_, accuracy = 0, 0\n",
    "    for row in dataloader.iterrows():\n",
    "        pred = model(torch.tensor(row[1]['text_vec'], dtype=torch.float, requires_grad=True)).float()\n",
    "\n",
    "        loss = loss_fn(pred, torch.tensor([row[1]['val']]).float())\n",
    "        optimizer.zero_grad()\n",
    "        loss.backward()\n",
    "        optimizer.step()\n",
    "\n",
    "        loss_ += loss.item()\n",
    "        accuracy += (round(pred[0].tolist()) == row[1]['val'])\n",
    "    \n",
    "    loss_ /= size\n",
    "    accuracy /= size\n",
    "    print(loss_, accuracy)\n",
    "    history['train_loss'].append(loss_)\n",
    "    history['train_accuracy'].append(accuracy)\n",
    "    return loss_, accuracy\n",
    "\n",
    "\n",
    "def val_loop(dataloader, model, loss_fn, history):\n",
    "    size = len(dataloader)\n",
    "    loss, accuracy = 0, 0\n",
    "\n",
    "    with torch.no_grad():\n",
    "        for row in dataloader.iterrows():\n",
    "            \n",
    "            pred = model(torch.tensor(row[1]['text_vec'], dtype=torch.float, requires_grad=True)).float()\n",
    "            \n",
    "            loss += loss_fn(pred, torch.tensor([row[1]['val']]).float())\n",
    "            accuracy += (round(pred[0].tolist()) == row[1]['val'])\n",
    "\n",
    "    loss /= size\n",
    "    accuracy /= size\n",
    "    print(loss.item(), accuracy)\n",
    "    history['val_loss'].append(loss.item())\n",
    "    history['val_accuracy'].append(accuracy)\n",
    "    return loss, accuracy\n",
    "\n",
    "def test_loop(dataloader, model, loss_fn, history, num_classes):\n",
    "    size = len(dataloader)\n",
    "    count = []\n",
    "\n",
    "    for i in range(num_classes):\n",
    "        count.append(0)\n",
    "\n",
    "    with torch.no_grad():\n",
    "        for row in dataloader.iterrows():\n",
    "            \n",
    "            pred = model(torch.tensor(row[1]['text_vec'], dtype=torch.float, requires_grad=True)).float()\n",
    "            count[row[1]['val']] += 1\n",
    "            history['test_loss'][row[1]['val']][0] += (loss_fn(pred, torch.tensor([row[1]['val']]).float())).item()\n",
    "            history['test_accuracy'][row[1]['val']][0] += round(pred[0].tolist()) == row[1]['val']\n",
    "\n",
    "    loss, accuracy = 0, 0\n",
    "    for i in range(num_classes):\n",
    "        history['test_loss'][i][0] /= size\n",
    "        loss += history['test_loss'][i][0]\n",
    "        history['test_accuracy'][i][0] /= count[i]\n",
    "        accuracy += history['test_accuracy'][i][0]\n",
    "\n",
    "    loss /= num_classes\n",
    "    accuracy /= num_classes\n",
    "    \n",
    "    return loss, accuracy"
   ]
  },
  {
   "cell_type": "code",
   "execution_count": 44,
   "metadata": {},
   "outputs": [],
   "source": [
    "history = {\n",
    "    'train_loss':[],\n",
    "    'train_accuracy':[],\n",
    "    'val_loss':[],\n",
    "    'val_accuracy':[],\n",
    "    'test_loss':[],\n",
    "    'test_accuracy':[]\n",
    "}\n",
    "\n",
    "for i in range(num_classes):\n",
    "    history['test_loss'].append([0])\n",
    "    history['test_accuracy'].append([0])\n"
   ]
  },
  {
   "cell_type": "code",
   "execution_count": 45,
   "metadata": {},
   "outputs": [
    {
     "name": "stderr",
     "output_type": "stream",
     "text": [
      "00:00 Elapsed |   3% done |▎         | 1/30 [00:21 remaining |  1.34epoch/s]"
     ]
    },
    {
     "name": "stdout",
     "output_type": "stream",
     "text": [
      "0.6938670850580647 0.5654761904761905\n",
      "0.740489661693573 0.47619047619047616\n"
     ]
    },
    {
     "name": "stderr",
     "output_type": "stream",
     "text": [
      "00:01 Elapsed |   7% done |▋         | 2/30 [00:20 remaining |  1.35epoch/s]"
     ]
    },
    {
     "name": "stdout",
     "output_type": "stream",
     "text": [
      "0.6473692226711483 0.5654761904761905\n",
      "0.7453681826591492 0.47619047619047616\n"
     ]
    },
    {
     "name": "stderr",
     "output_type": "stream",
     "text": [
      "00:02 Elapsed |  10% done |█         | 3/30 [00:20 remaining |  1.29epoch/s]"
     ]
    },
    {
     "name": "stdout",
     "output_type": "stream",
     "text": [
      "0.5137573415288769 0.5654761904761905\n",
      "0.7817532420158386 0.47619047619047616\n"
     ]
    },
    {
     "name": "stderr",
     "output_type": "stream",
     "text": [
      "00:03 Elapsed |  13% done |█▎        | 4/30 [00:19 remaining |  1.31epoch/s]"
     ]
    },
    {
     "name": "stdout",
     "output_type": "stream",
     "text": [
      "0.45382740958863604 0.5654761904761905\n",
      "0.7781233787536621 0.47619047619047616\n"
     ]
    },
    {
     "name": "stderr",
     "output_type": "stream",
     "text": [
      "00:03 Elapsed |  17% done |█▋        | 5/30 [00:19 remaining |  1.30epoch/s]"
     ]
    },
    {
     "name": "stdout",
     "output_type": "stream",
     "text": [
      "0.4261898763798283 0.5654761904761905\n",
      "0.751693606376648 0.47619047619047616\n"
     ]
    },
    {
     "name": "stderr",
     "output_type": "stream",
     "text": [
      "00:04 Elapsed |  20% done |██        | 6/30 [00:18 remaining |  1.32epoch/s]"
     ]
    },
    {
     "name": "stdout",
     "output_type": "stream",
     "text": [
      "0.4035050680116524 0.5654761904761905\n",
      "0.7527790665626526 0.47619047619047616\n"
     ]
    },
    {
     "name": "stderr",
     "output_type": "stream",
     "text": [
      "00:05 Elapsed |  23% done |██▎       | 7/30 [00:17 remaining |  1.33epoch/s]"
     ]
    },
    {
     "name": "stdout",
     "output_type": "stream",
     "text": [
      "0.3884526024469914 0.5654761904761905\n",
      "0.7642874717712402 0.47619047619047616\n"
     ]
    },
    {
     "name": "stderr",
     "output_type": "stream",
     "text": [
      "00:06 Elapsed |  27% done |██▋       | 8/30 [00:16 remaining |  1.33epoch/s]"
     ]
    },
    {
     "name": "stdout",
     "output_type": "stream",
     "text": [
      "0.3738183506366618 0.5654761904761905\n",
      "0.8077753782272339 0.47619047619047616\n"
     ]
    },
    {
     "name": "stderr",
     "output_type": "stream",
     "text": [
      "00:06 Elapsed |  30% done |███       | 9/30 [00:15 remaining |  1.34epoch/s]"
     ]
    },
    {
     "name": "stdout",
     "output_type": "stream",
     "text": [
      "0.3610237764928878 0.5654761904761905\n",
      "0.8291020393371582 0.47619047619047616\n"
     ]
    },
    {
     "name": "stderr",
     "output_type": "stream",
     "text": [
      "00:07 Elapsed |  33% done |███▎      | 10/30 [00:14 remaining |  1.35epoch/s]"
     ]
    },
    {
     "name": "stdout",
     "output_type": "stream",
     "text": [
      "0.3495460196357544 0.5654761904761905\n",
      "0.8362017869949341 0.47619047619047616\n"
     ]
    },
    {
     "name": "stderr",
     "output_type": "stream",
     "text": [
      "00:08 Elapsed |  37% done |███▋      | 11/30 [00:14 remaining |  1.35epoch/s]"
     ]
    },
    {
     "name": "stdout",
     "output_type": "stream",
     "text": [
      "0.3383220130277166 0.5654761904761905\n",
      "0.8545864820480347 0.47619047619047616\n"
     ]
    },
    {
     "name": "stderr",
     "output_type": "stream",
     "text": [
      "00:08 Elapsed |  40% done |████      | 12/30 [00:13 remaining |  1.36epoch/s]"
     ]
    },
    {
     "name": "stdout",
     "output_type": "stream",
     "text": [
      "0.32730125283322675 0.5654761904761905\n",
      "0.8853778839111328 0.47619047619047616\n"
     ]
    },
    {
     "name": "stderr",
     "output_type": "stream",
     "text": [
      "00:09 Elapsed |  43% done |████▎     | 13/30 [00:12 remaining |  1.36epoch/s]"
     ]
    },
    {
     "name": "stdout",
     "output_type": "stream",
     "text": [
      "0.31685575393574955 0.5654761904761905\n",
      "0.8812716603279114 0.47619047619047616\n"
     ]
    },
    {
     "name": "stderr",
     "output_type": "stream",
     "text": [
      "00:10 Elapsed |  47% done |████▋     | 14/30 [00:11 remaining |  1.36epoch/s]"
     ]
    },
    {
     "name": "stdout",
     "output_type": "stream",
     "text": [
      "0.30797880973811764 0.8928571428571429\n",
      "0.7063827514648438 0.7142857142857143\n"
     ]
    },
    {
     "name": "stderr",
     "output_type": "stream",
     "text": [
      "00:11 Elapsed |  50% done |█████     | 15/30 [00:11 remaining |  1.32epoch/s]"
     ]
    },
    {
     "name": "stdout",
     "output_type": "stream",
     "text": [
      "0.29779564766586447 0.9880952380952381\n",
      "0.7658682465553284 0.7142857142857143\n"
     ]
    },
    {
     "name": "stderr",
     "output_type": "stream",
     "text": [
      "00:11 Elapsed |  53% done |█████▎    | 16/30 [00:10 remaining |  1.33epoch/s]"
     ]
    },
    {
     "name": "stdout",
     "output_type": "stream",
     "text": [
      "0.288359779944635 0.9880952380952381\n",
      "0.7648955583572388 0.7619047619047619\n"
     ]
    },
    {
     "name": "stderr",
     "output_type": "stream",
     "text": [
      "00:12 Elapsed |  57% done |█████▋    | 17/30 [00:09 remaining |  1.34epoch/s]"
     ]
    },
    {
     "name": "stdout",
     "output_type": "stream",
     "text": [
      "0.2794675109039211 0.9880952380952381\n",
      "0.7843899726867676 0.7142857142857143\n"
     ]
    },
    {
     "name": "stderr",
     "output_type": "stream",
     "text": [
      "00:13 Elapsed |  60% done |██████    | 18/30 [00:08 remaining |  1.35epoch/s]"
     ]
    },
    {
     "name": "stdout",
     "output_type": "stream",
     "text": [
      "0.27097404733750113 0.9880952380952381\n",
      "0.8256591558456421 0.7619047619047619\n"
     ]
    },
    {
     "name": "stderr",
     "output_type": "stream",
     "text": [
      "00:14 Elapsed |  63% done |██████▎   | 19/30 [00:08 remaining |  1.32epoch/s]"
     ]
    },
    {
     "name": "stdout",
     "output_type": "stream",
     "text": [
      "0.26297827898371584 0.9880952380952381\n",
      "0.8211022615432739 0.7619047619047619\n"
     ]
    },
    {
     "name": "stderr",
     "output_type": "stream",
     "text": [
      "00:15 Elapsed |  67% done |██████▋   | 20/30 [00:07 remaining |  1.32epoch/s]"
     ]
    },
    {
     "name": "stdout",
     "output_type": "stream",
     "text": [
      "0.25548477374484596 0.9880952380952381\n",
      "0.815769374370575 0.7142857142857143\n"
     ]
    },
    {
     "name": "stderr",
     "output_type": "stream",
     "text": [
      "00:15 Elapsed |  70% done |███████   | 21/30 [00:06 remaining |  1.33epoch/s]"
     ]
    },
    {
     "name": "stdout",
     "output_type": "stream",
     "text": [
      "0.2479866291737822 0.9880952380952381\n",
      "0.7737165093421936 0.7142857142857143\n"
     ]
    },
    {
     "name": "stderr",
     "output_type": "stream",
     "text": [
      "00:16 Elapsed |  73% done |███████▎  | 22/30 [00:06 remaining |  1.33epoch/s]"
     ]
    },
    {
     "name": "stdout",
     "output_type": "stream",
     "text": [
      "0.24104642880834865 0.9880952380952381\n",
      "0.8346895575523376 0.7142857142857143\n"
     ]
    },
    {
     "name": "stderr",
     "output_type": "stream",
     "text": [
      "00:17 Elapsed |  77% done |███████▋  | 23/30 [00:05 remaining |  1.32epoch/s]"
     ]
    },
    {
     "name": "stdout",
     "output_type": "stream",
     "text": [
      "0.23488580358829084 0.9880952380952381\n",
      "0.7131584286689758 0.6666666666666666\n"
     ]
    },
    {
     "name": "stderr",
     "output_type": "stream",
     "text": [
      "00:18 Elapsed |  80% done |████████  | 24/30 [00:04 remaining |  1.32epoch/s]"
     ]
    },
    {
     "name": "stdout",
     "output_type": "stream",
     "text": [
      "0.22819409572918076 0.9880952380952381\n",
      "0.784583330154419 0.7142857142857143\n"
     ]
    },
    {
     "name": "stderr",
     "output_type": "stream",
     "text": [
      "00:18 Elapsed |  83% done |████████▎ | 25/30 [00:03 remaining |  1.31epoch/s]"
     ]
    },
    {
     "name": "stdout",
     "output_type": "stream",
     "text": [
      "0.2219947309887743 0.9880952380952381\n",
      "0.7760754823684692 0.7142857142857143\n"
     ]
    },
    {
     "name": "stderr",
     "output_type": "stream",
     "text": [
      "00:19 Elapsed |  87% done |████████▋ | 26/30 [00:03 remaining |  1.30epoch/s]"
     ]
    },
    {
     "name": "stdout",
     "output_type": "stream",
     "text": [
      "0.2161911104186348 0.9880952380952381\n",
      "0.7611220479011536 0.7142857142857143\n"
     ]
    },
    {
     "name": "stderr",
     "output_type": "stream",
     "text": [
      "00:20 Elapsed |  90% done |█████████ | 27/30 [00:02 remaining |  1.25epoch/s]"
     ]
    },
    {
     "name": "stdout",
     "output_type": "stream",
     "text": [
      "0.21085930908296072 0.9880952380952381\n",
      "0.6409382224082947 0.7619047619047619\n"
     ]
    },
    {
     "name": "stderr",
     "output_type": "stream",
     "text": [
      "00:21 Elapsed |  93% done |█████████▎| 28/30 [00:01 remaining |  1.25epoch/s]"
     ]
    },
    {
     "name": "stdout",
     "output_type": "stream",
     "text": [
      "0.20554382659878592 0.9880952380952381\n",
      "0.6610367298126221 0.7619047619047619\n"
     ]
    },
    {
     "name": "stderr",
     "output_type": "stream",
     "text": [
      "00:22 Elapsed |  97% done |█████████▋| 29/30 [00:00 remaining |  1.23epoch/s]"
     ]
    },
    {
     "name": "stdout",
     "output_type": "stream",
     "text": [
      "0.20049555267759556 0.9880952380952381\n",
      "0.5952075719833374 0.7619047619047619\n"
     ]
    },
    {
     "name": "stderr",
     "output_type": "stream",
     "text": [
      "00:22 Elapsed | 100% done |██████████| 30/30 [00:00 remaining |  1.31epoch/s]"
     ]
    },
    {
     "name": "stdout",
     "output_type": "stream",
     "text": [
      "0.1957461519929728 0.9880952380952381\n",
      "0.5051848292350769 0.7142857142857143\n",
      "train loss and accuracy:  0.1957461519929728 0.9880952380952381\n",
      "val loss and accuracy:  0.5051848292350769 0.7142857142857143\n"
     ]
    },
    {
     "name": "stderr",
     "output_type": "stream",
     "text": [
      "\n"
     ]
    }
   ],
   "source": [
    "if(train_flag):\n",
    "    for t in tqdm(range(epochs), bar_format=\"{elapsed} Elapsed | {percentage:3.0f}% done |{bar}| {n_fmt}/{total_fmt} [{remaining} remaining | {rate_fmt}{postfix}]\", unit=\"epoch\", total=epochs):\n",
    "        train_loop(df_train, model, loss_fn, optimizer, history)\n",
    "        val_loop(df_val, model, loss_fn, history)\n",
    "    print(\"train loss and accuracy: \", history['train_loss'][-1], history['train_accuracy'][-1])\n",
    "    print(\"val loss and accuracy: \", history['val_loss'][-1], history['val_accuracy'][-1])\n",
    "else:\n",
    "    model.load_state_dict(torch.load(\"param3_base.pth\", weights_only=True))\n",
    "    model.eval()"
   ]
  },
  {
   "cell_type": "code",
   "execution_count": 46,
   "metadata": {},
   "outputs": [
    {
     "data": {
      "image/png": "[encoded data removed]",
      "text/plain": [
       "<Figure size 800x800 with 2 Axes>"
      ]
     },
     "metadata": {},
     "output_type": "display_data"
    }
   ],
   "source": [
    "if(train_flag):\n",
    "    epochs_range = range(epochs)\n",
    "    plt.figure(figsize=(8, 8))\n",
    "    plt.subplot(1, 2, 1)\n",
    "    plt.plot(epochs_range, history['train_accuracy'], label='Training Accuracy', color='red')\n",
    "    plt.plot(epochs_range, history['val_accuracy'], label='Validation Accuracy', color='blue')\n",
    "    plt.legend(loc='lower right')\n",
    "    plt.title('Training and Validation Accuracy')\n",
    "    plt.grid()\n",
    "\n",
    "    plt.subplot(1, 2, 2)\n",
    "    plt.plot(epochs_range, history['train_loss'], label='Training Loss', color='red')\n",
    "    plt.plot(epochs_range, history['val_loss'], label='Validation Loss', color='blue')\n",
    "    plt.legend(loc='lower left')\n",
    "    plt.title('Training and Validation Loss')\n",
    "    plt.grid()\n",
    "    plt.show()\n"
   ]
  },
  {
   "cell_type": "code",
   "execution_count": 47,
   "metadata": {},
   "outputs": [
    {
     "name": "stdout",
     "output_type": "stream",
     "text": [
      "test loss and accuracy:  0.18778929702131109 0.675\n",
      "test loss and accuracy on target  0 :  0.12905479754720414 0.6\n",
      "test loss and accuracy on target  1 :  0.24652379649541803 0.75\n"
     ]
    }
   ],
   "source": [
    "tloss, tacc = test_loop(df_test, model, loss_fn, history, 2)\n",
    "print(\"test loss and accuracy: \", tloss, tacc)\n",
    "for i in range (num_classes):\n",
    "    print(\"test loss and accuracy on target \", i, \": \", history['test_loss'][i][0], history['test_accuracy'][i][0])"
   ]
  }
 ],
 "metadata": {
  "accelerator": "TPU",
  "colab": {
   "provenance": []
  },
  "gpuClass": "standard",
  "kernelspec": {
   "display_name": "Python 3",
   "language": "python",
   "name": "python3"
  },
  "language_info": {
   "codemirror_mode": {
    "name": "ipython",
    "version": 3
   },
   "file_extension": ".py",
   "mimetype": "text/x-python",
   "name": "python",
   "nbconvert_exporter": "python",
   "pygments_lexer": "ipython3",
   "version": "3.11.5"
  },
  "orig_nbformat": 4
 },
 "nbformat": 4,
 "nbformat_minor": 0
}
