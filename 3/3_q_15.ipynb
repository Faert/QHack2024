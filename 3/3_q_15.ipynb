{
 "cells": [
  {
   "attachments": {},
   "cell_type": "markdown",
   "metadata": {
    "id": "dzUetH28tKkc"
   },
   "source": [
    "#  Classical-quantum Neural Network for binary classification"
   ]
  },
  {
   "cell_type": "code",
   "execution_count": 1,
   "metadata": {
    "id": "WIUCtTrbtKkc"
   },
   "outputs": [],
   "source": [
    "import torch\n",
    "import torch.nn as nn\n",
    "import torch.nn.functional as F\n",
    "\n",
    "from sklearn.feature_extraction.text import CountVectorizer\n",
    "\n",
    "import pandas as pd\n",
    "import matplotlib.pyplot as plt\n",
    "import numpy as np\n",
    "import os, random, json, math\n",
    "from tqdm import tqdm\n",
    "import nltk\n",
    "from nltk.corpus import stopwords\n",
    "import re\n",
    "\n",
    "import qiskit\n",
    "from qiskit import transpile\n",
    "from qiskit.visualization import *\n",
    "from qiskit_aer import AerSimulator\n",
    "from qiskit.circuit.library import NLocal\n",
    "from qiskit.circuit import QuantumCircuit, ClassicalRegister, ParameterVector\n",
    "from qiskit.transpiler.passes import RemoveBarriers\n",
    "from qiskit_machine_learning.connectors import TorchConnector\n",
    "from qiskit_machine_learning.neural_networks import SamplerQNN"
   ]
  },
  {
   "cell_type": "markdown",
   "metadata": {},
   "source": [
    "## Data loading"
   ]
  },
  {
   "cell_type": "code",
   "execution_count": null,
   "metadata": {},
   "outputs": [],
   "source": [
    "num_classes = 2\n",
    "trapart = 0.8\n",
    "val_part = 0.5 # from 1 - train_part\n",
    "\n",
    "# hyper parameters\n",
    "train_flag = False\n",
    "epochs=30\n",
    "initial_lr = 0.00025\n",
    "w_decay = 0.0001\n",
    "q_reps = 3"
   ]
  },
  {
   "cell_type": "code",
   "execution_count": 3,
   "metadata": {},
   "outputs": [],
   "source": [
    "dataset_path = 'Dataset/'\n",
    "dataset_name = 'task-3-dataset-15.csv'\n",
    "df = pd.read_csv(dataset_path+dataset_name)\n",
    "text = list(df['отзывы'])"
   ]
  },
  {
   "cell_type": "code",
   "execution_count": 4,
   "metadata": {},
   "outputs": [],
   "source": [
    "lemmatize = nltk.WordNetLemmatizer()\n",
    "stop_words = set(stopwords.words('russian'))\n",
    "new_text = []\n",
    "for i in df['отзывы']:\n",
    "    text_ = re.sub(\"[^a-zA-Zа-яА-Я1-9]\",\" \",i)\n",
    "    text_ = nltk.word_tokenize(text_, language='russian')\n",
    "    text_ = [word for word in text_ if word not in stop_words]\n",
    "    text_ = [lemmatize.lemmatize(word) for word in text_]\n",
    "    text_ = \" \".join(text_)\n",
    "    new_text.append(text_)"
   ]
  },
  {
   "cell_type": "code",
   "execution_count": 5,
   "metadata": {},
   "outputs": [
    {
     "name": "stdout",
     "output_type": "stream",
     "text": [
      "1161\n"
     ]
    }
   ],
   "source": [
    "count = CountVectorizer(stop_words=\"english\")\n",
    "matrix = count.fit_transform(new_text).toarray()\n",
    "max_len = len(matrix[0])\n",
    "print(max_len)"
   ]
  },
  {
   "cell_type": "code",
   "execution_count": 6,
   "metadata": {},
   "outputs": [],
   "source": [
    "d = {'text_vec': matrix.tolist(), 'val': [1 if x=='+' else 0 for x in df['разметка']]}\n",
    "df2 = pd.DataFrame(data=d)\n",
    "\n",
    "df_train = df2[:int(len(df2)*0.8)]\n",
    "df_test = df2.drop(df_train.index)\n",
    "df_val = df_test[:int(len(df_test)*0.5)]\n",
    "df_test = df_test.drop(df_val.index)"
   ]
  },
  {
   "cell_type": "markdown",
   "metadata": {},
   "source": [
    "## The Network"
   ]
  },
  {
   "cell_type": "code",
   "execution_count": 7,
   "metadata": {},
   "outputs": [],
   "source": [
    "### QUANTUM CLASS ###\n",
    "\n",
    "# rotation block:\n",
    "rot = QuantumCircuit(1)\n",
    "params = ParameterVector('r', 1)\n",
    "rot.ry(params[0], 0)\n",
    "\n",
    "# entanglement block:\n",
    "ent = QuantumCircuit(2)\n",
    "ent.cx(0, 1)\n",
    "\n",
    "class InitialStateQC:\n",
    "    def __init__(self, n_qubits):\n",
    "        self._circuit = qiskit.QuantumCircuit(n_qubits)\n",
    "        params = ParameterVector('φ', n_qubits)\n",
    "        \n",
    "        for i in range(n_qubits):\n",
    "            self._circuit.ry(params[i], i)\n",
    "\n",
    "\n",
    "class MyQuantumCircuit:\n",
    "    def __init__(self, n_qubits, backend, input_circ = None, shots = 1024, reps = 2, measure = True):\n",
    "        if(n_qubits == 1):\n",
    "            qc_nlocal = NLocal(num_qubits=1, rotation_blocks=rot, entanglement='linear',\n",
    "                skip_final_rotation_layer=True, insert_barriers=True, reps=reps, initial_state=input_circ)#\n",
    "        else:\n",
    "            qc_nlocal = NLocal(num_qubits=n_qubits, rotation_blocks=rot,\n",
    "                entanglement_blocks=ent, entanglement='linear',\n",
    "                skip_final_rotation_layer=True, insert_barriers=True, reps=reps, initial_state=input_circ)\n",
    "\n",
    "        qc_nlocal = qc_nlocal.decompose()\n",
    "        qc_nlocal = RemoveBarriers()(qc_nlocal)\n",
    "        if(measure):\n",
    "            out_size = int(math.log(n_qubits, 2))\n",
    "            qc_nlocal.add_register(ClassicalRegister(out_size))\n",
    "            for i in range(out_size - 1, -1, -1) :\n",
    "                qc_nlocal.measure(n_qubits - i - 1, i)\n",
    "        self._circuit = qc_nlocal\n",
    "\n",
    "        self.backend = backend\n",
    "        self.shots = shots\n",
    "        self.num_qubit = n_qubits\n",
    "    \n",
    "    def run(self, param, backend = None, shots = 0):\n",
    "        if (backend == None):\n",
    "            backend = self.backend\n",
    "        if (shots == 0):\n",
    "            shots = self.shots\n",
    "\n",
    "\n",
    "        t_qc = transpile(self._circuit.assign_parameters(param.cpu().data.numpy()), backend)\n",
    "        job = backend.run(t_qc)\n",
    "        result = job.result().get_counts()\n",
    "\n",
    "        return result"
   ]
  },
  {
   "cell_type": "code",
   "execution_count": 8,
   "metadata": {},
   "outputs": [
    {
     "name": "stderr",
     "output_type": "stream",
     "text": [
      "No interpret function given, output_shape will be automatically determined as 2^num_qubits.\n"
     ]
    }
   ],
   "source": [
    "def create_qnn(num_classes = 2):\n",
    "    feature_map = InitialStateQC(num_classes)._circuit\n",
    "    ansatz = MyQuantumCircuit(num_classes, AerSimulator(), measure = False, reps = q_reps)._circuit\n",
    "    qc = QuantumCircuit(num_classes)\n",
    "    qc.compose(feature_map, inplace=True)\n",
    "    qc.compose(ansatz, inplace=True)\n",
    "\n",
    "    qnn = SamplerQNN(\n",
    "        circuit=qc,\n",
    "        input_params=feature_map.parameters,\n",
    "        weight_params=ansatz.parameters,\n",
    "        output_shape=num_classes,\n",
    "        input_gradients=True\n",
    "    )\n",
    "    return qnn\n",
    "\n",
    "qnn = create_qnn(num_classes)"
   ]
  },
  {
   "cell_type": "code",
   "execution_count": 9,
   "metadata": {},
   "outputs": [
    {
     "name": "stdout",
     "output_type": "stream",
     "text": [
      "Sequential(\n",
      "  (0): Linear(in_features=1161, out_features=1160, bias=True)\n",
      "  (1): QNet(\n",
      "    (layer_2): Linear(in_features=1160, out_features=256, bias=True)\n",
      "    (layer_3): Linear(in_features=256, out_features=64, bias=True)\n",
      "    (layer_qin): Linear(in_features=64, out_features=2, bias=True)\n",
      "    (layer_qout): Linear(in_features=4, out_features=1, bias=True)\n",
      "    (relu): ReLU()\n",
      "    (sigmoid): Sigmoid()\n",
      "    (dropout): Dropout(p=0.1, inplace=False)\n",
      "    (qlayer): TorchConnector()\n",
      "  )\n",
      ")\n"
     ]
    },
    {
     "name": "stderr",
     "output_type": "stream",
     "text": [
      "c:\\Users\\Александр\\AppData\\Local\\Programs\\Python\\Python311\\Lib\\site-packages\\qiskit_machine_learning\\connectors\\torch_connector.py:306: UserWarning: To copy construct from a tensor, it is recommended to use sourceTensor.clone().detach() or sourceTensor.clone().detach().requires_grad_(True), rather than torch.tensor(sourceTensor).\n",
      "  self._weights.data = torch.tensor(initial_weights, dtype=torch.float)\n"
     ]
    }
   ],
   "source": [
    "n_input_dim = 1160#!!!\n",
    "n_hidden2 = 256\n",
    "n_hidden3 = 64\n",
    "num_q = num_classes\n",
    "n_output =  1\n",
    "\n",
    "\n",
    "class QNet(nn.Module):\n",
    "    def __init__(self):\n",
    "        super(QNet, self).__init__()\n",
    "        self.layer_2 = nn.Linear(n_input_dim, n_hidden2)\n",
    "        self.layer_3 = nn.Linear(n_hidden2, n_hidden3)\n",
    "        self.layer_qin = nn.Linear(n_hidden3, num_q)\n",
    "        self.layer_qout = nn.Linear(2**num_q, n_output) \n",
    "        \n",
    "        self.relu = nn.ReLU()\n",
    "        self.sigmoid =  nn.Sigmoid()\n",
    "        self.dropout = nn.Dropout(p=0.1)\n",
    "\n",
    "        self.qlayer = TorchConnector(qnn, initial_weights=torch.zeros(num_classes*q_reps))\n",
    "        \n",
    "        \n",
    "    def forward(self, inputs):\n",
    "        x = self.relu(self.layer_2(inputs))\n",
    "        x = self.dropout(x)\n",
    "        x = self.relu(self.layer_3(x))\n",
    "        x = self.dropout(x)\n",
    "        x = self.relu(self.layer_qin(x))\n",
    "        x = self.qlayer(x)\n",
    "        x = self.sigmoid(self.layer_qout(x))\n",
    "        \n",
    "        return x\n",
    "    \n",
    "model = QNet()\n",
    "model.load_state_dict(torch.load(\"param3_q.pth\", weights_only=True))\n",
    "model.eval()\n",
    "for param in model.parameters():\n",
    "    param.requires_grad = False\n",
    "#print(model)\n",
    "model = nn.Sequential(nn.Linear(max_len, n_input_dim), model)\n",
    "print(model)"
   ]
  },
  {
   "cell_type": "code",
   "execution_count": null,
   "metadata": {
    "colab": {
     "base_uri": "https://localhost:8080/",
     "height": 437
    },
    "id": "jA8-TNMwtKks",
    "outputId": "a7c4c711-bc23-4835-e1a8-0d9232d8b050"
   },
   "outputs": [],
   "source": [
    "optimizer = torch.optim.Adam(model.parameters(), lr=initial_lr, weight_decay=w_decay, amsgrad=True)\n",
    "loss_fn = nn.BCELoss()\n",
    "\n",
    "def train_loop(dataloader, model, loss_fn, optimizer, history):\n",
    "    size = len(dataloader)\n",
    "\n",
    "    loss_, accuracy = 0, 0\n",
    "    for row in dataloader.iterrows():\n",
    "        pred = model(torch.tensor(row[1]['text_vec'], dtype=torch.float, requires_grad=True)).float()\n",
    "        loss = loss_fn(pred, torch.tensor([row[1]['val']]).float())\n",
    "        optimizer.zero_grad()\n",
    "        loss.backward()\n",
    "        optimizer.step()\n",
    "\n",
    "        loss_ += loss.item()\n",
    "        accuracy += (round(pred[0].tolist()) == row[1]['val'])\n",
    "    \n",
    "    loss_ /= size\n",
    "    accuracy /= size\n",
    "    print(loss_, accuracy)\n",
    "    history['train_loss'].append(loss_)\n",
    "    history['train_accuracy'].append(accuracy)\n",
    "    return loss_, accuracy\n",
    "\n",
    "\n",
    "def val_loop(dataloader, model, loss_fn, history):\n",
    "    size = len(dataloader)\n",
    "    loss, accuracy = 0, 0\n",
    "\n",
    "    with torch.no_grad():\n",
    "        for row in dataloader.iterrows():\n",
    "            \n",
    "            pred = model(torch.tensor(row[1]['text_vec'], dtype=torch.float, requires_grad=True)).float()\n",
    "            loss += loss_fn(pred, torch.tensor([row[1]['val']]).float())\n",
    "            accuracy += (round(pred[0].tolist()) == row[1]['val'])\n",
    "\n",
    "    loss /= size\n",
    "    accuracy /= size\n",
    "    print(loss.item(), accuracy)\n",
    "    history['val_loss'].append(loss.item())\n",
    "    history['val_accuracy'].append(accuracy)\n",
    "    return loss, accuracy\n",
    "\n",
    "def test_loop(dataloader, model, loss_fn, history, num_classes):\n",
    "    size = len(dataloader)\n",
    "    count = []\n",
    "\n",
    "    for i in range(num_classes):\n",
    "        count.append(0)\n",
    "\n",
    "    with torch.no_grad():\n",
    "        for row in dataloader.iterrows():\n",
    "            \n",
    "            pred = model(torch.tensor(row[1]['text_vec'], dtype=torch.float, requires_grad=True)).float()\n",
    "            count[row[1]['val']] += 1\n",
    "            history['test_loss'][row[1]['val']][0] += (loss_fn(pred, torch.tensor([row[1]['val']]).float())).item()\n",
    "            history['test_accuracy'][row[1]['val']][0] += round(pred[0].tolist()) == row[1]['val']\n",
    "\n",
    "    loss, accuracy = 0, 0\n",
    "    for i in range(num_classes):\n",
    "        history['test_loss'][i][0] /= size\n",
    "        loss += history['test_loss'][i][0]\n",
    "        history['test_accuracy'][i][0] /= count[i]\n",
    "        accuracy += history['test_accuracy'][i][0]\n",
    "\n",
    "    loss /= num_classes\n",
    "    accuracy /= num_classes\n",
    "    \n",
    "    return loss, accuracy"
   ]
  },
  {
   "cell_type": "code",
   "execution_count": 11,
   "metadata": {},
   "outputs": [],
   "source": [
    "history = {\n",
    "    'train_loss':[],\n",
    "    'train_accuracy':[],\n",
    "    'val_loss':[],\n",
    "    'val_accuracy':[],\n",
    "    'test_loss':[],\n",
    "    'test_accuracy':[]\n",
    "}\n",
    "\n",
    "for i in range(num_classes):\n",
    "    history['test_loss'].append([0])\n",
    "    history['test_accuracy'].append([0])\n"
   ]
  },
  {
   "cell_type": "code",
   "execution_count": 12,
   "metadata": {},
   "outputs": [
    {
     "name": "stderr",
     "output_type": "stream",
     "text": [
      "00:06 Elapsed |   3% done |▎         | 1/30 [03:02 remaining |  6.28s/epoch]"
     ]
    },
    {
     "name": "stdout",
     "output_type": "stream",
     "text": [
      "0.6778713420033455 0.6294117647058823\n",
      "0.5025015473365784 0.7619047619047619\n"
     ]
    },
    {
     "name": "stderr",
     "output_type": "stream",
     "text": [
      "00:12 Elapsed |   7% done |▋         | 2/30 [02:52 remaining |  6.17s/epoch]"
     ]
    },
    {
     "name": "stdout",
     "output_type": "stream",
     "text": [
      "0.5017970788128235 0.7941176470588235\n",
      "0.5555802583694458 0.7142857142857143\n"
     ]
    },
    {
     "name": "stderr",
     "output_type": "stream",
     "text": [
      "00:18 Elapsed |  10% done |█         | 3/30 [02:47 remaining |  6.19s/epoch]"
     ]
    },
    {
     "name": "stdout",
     "output_type": "stream",
     "text": [
      "0.4748500563642558 0.8058823529411765\n",
      "0.581709623336792 0.7142857142857143\n"
     ]
    },
    {
     "name": "stderr",
     "output_type": "stream",
     "text": [
      "00:24 Elapsed |  13% done |█▎        | 4/30 [02:41 remaining |  6.20s/epoch]"
     ]
    },
    {
     "name": "stdout",
     "output_type": "stream",
     "text": [
      "0.4465258992770139 0.8235294117647058\n",
      "0.5753632187843323 0.7142857142857143\n"
     ]
    },
    {
     "name": "stderr",
     "output_type": "stream",
     "text": [
      "00:31 Elapsed |  17% done |█▋        | 5/30 [02:36 remaining |  6.26s/epoch]"
     ]
    },
    {
     "name": "stdout",
     "output_type": "stream",
     "text": [
      "0.4371184492812437 0.8352941176470589\n",
      "0.47994622588157654 0.7619047619047619\n"
     ]
    },
    {
     "name": "stderr",
     "output_type": "stream",
     "text": [
      "00:37 Elapsed |  20% done |██        | 6/30 [02:34 remaining |  6.43s/epoch]"
     ]
    },
    {
     "name": "stdout",
     "output_type": "stream",
     "text": [
      "0.3995024566264713 0.8705882352941177\n",
      "0.5199683308601379 0.7619047619047619\n"
     ]
    },
    {
     "name": "stderr",
     "output_type": "stream",
     "text": [
      "00:44 Elapsed |  23% done |██▎       | 7/30 [02:30 remaining |  6.55s/epoch]"
     ]
    },
    {
     "name": "stdout",
     "output_type": "stream",
     "text": [
      "0.38227284559432195 0.8764705882352941\n",
      "0.6117760539054871 0.7142857142857143\n"
     ]
    },
    {
     "name": "stderr",
     "output_type": "stream",
     "text": [
      "00:51 Elapsed |  27% done |██▋       | 8/30 [02:24 remaining |  6.58s/epoch]"
     ]
    },
    {
     "name": "stdout",
     "output_type": "stream",
     "text": [
      "0.33755016510977465 0.9176470588235294\n",
      "0.5712182521820068 0.7142857142857143\n"
     ]
    },
    {
     "name": "stderr",
     "output_type": "stream",
     "text": [
      "00:58 Elapsed |  30% done |███       | 9/30 [02:19 remaining |  6.63s/epoch]"
     ]
    },
    {
     "name": "stdout",
     "output_type": "stream",
     "text": [
      "0.3482724649064681 0.8941176470588236\n",
      "0.5383179783821106 0.7619047619047619\n"
     ]
    },
    {
     "name": "stderr",
     "output_type": "stream",
     "text": [
      "01:04 Elapsed |  33% done |███▎      | 10/30 [02:13 remaining |  6.68s/epoch]"
     ]
    },
    {
     "name": "stdout",
     "output_type": "stream",
     "text": [
      "0.33766044755192365 0.9058823529411765\n",
      "0.5141386985778809 0.7619047619047619\n"
     ]
    },
    {
     "name": "stderr",
     "output_type": "stream",
     "text": [
      "01:11 Elapsed |  37% done |███▋      | 11/30 [02:07 remaining |  6.73s/epoch]"
     ]
    },
    {
     "name": "stdout",
     "output_type": "stream",
     "text": [
      "0.3023615595172433 0.9470588235294117\n",
      "0.435570627450943 0.8095238095238095\n"
     ]
    },
    {
     "name": "stderr",
     "output_type": "stream",
     "text": [
      "01:18 Elapsed |  40% done |████      | 12/30 [02:01 remaining |  6.76s/epoch]"
     ]
    },
    {
     "name": "stdout",
     "output_type": "stream",
     "text": [
      "0.31787670044338 0.9235294117647059\n",
      "0.4576561450958252 0.8095238095238095\n"
     ]
    },
    {
     "name": "stderr",
     "output_type": "stream",
     "text": [
      "01:25 Elapsed |  43% done |████▎     | 13/30 [01:55 remaining |  6.82s/epoch]"
     ]
    },
    {
     "name": "stdout",
     "output_type": "stream",
     "text": [
      "0.3027753233909607 0.9294117647058824\n",
      "0.40622401237487793 0.8571428571428571\n"
     ]
    },
    {
     "name": "stderr",
     "output_type": "stream",
     "text": [
      "01:32 Elapsed |  47% done |████▋     | 14/30 [01:50 remaining |  6.89s/epoch]"
     ]
    },
    {
     "name": "stdout",
     "output_type": "stream",
     "text": [
      "0.2763479756958344 0.9470588235294117\n",
      "0.3840234875679016 0.8571428571428571\n"
     ]
    },
    {
     "name": "stderr",
     "output_type": "stream",
     "text": [
      "01:39 Elapsed |  50% done |█████     | 15/30 [01:43 remaining |  6.93s/epoch]"
     ]
    },
    {
     "name": "stdout",
     "output_type": "stream",
     "text": [
      "0.27872603342813607 0.9470588235294117\n",
      "0.42067381739616394 0.8571428571428571\n"
     ]
    },
    {
     "name": "stderr",
     "output_type": "stream",
     "text": [
      "01:46 Elapsed |  53% done |█████▎    | 16/30 [01:37 remaining |  6.95s/epoch]"
     ]
    },
    {
     "name": "stdout",
     "output_type": "stream",
     "text": [
      "0.2718465926016078 0.9529411764705882\n",
      "0.44909703731536865 0.8095238095238095\n"
     ]
    },
    {
     "name": "stderr",
     "output_type": "stream",
     "text": [
      "01:53 Elapsed |  57% done |█████▋    | 17/30 [01:29 remaining |  6.91s/epoch]"
     ]
    },
    {
     "name": "stdout",
     "output_type": "stream",
     "text": [
      "0.2803183401332182 0.9470588235294117\n",
      "0.43971574306488037 0.8571428571428571\n"
     ]
    },
    {
     "name": "stderr",
     "output_type": "stream",
     "text": [
      "02:00 Elapsed |  60% done |██████    | 18/30 [01:23 remaining |  6.96s/epoch]"
     ]
    },
    {
     "name": "stdout",
     "output_type": "stream",
     "text": [
      "0.28757144545807556 0.9411764705882353\n",
      "0.4018402099609375 0.8571428571428571\n"
     ]
    },
    {
     "name": "stderr",
     "output_type": "stream",
     "text": [
      "02:07 Elapsed |  63% done |██████▎   | 19/30 [01:16 remaining |  6.97s/epoch]"
     ]
    },
    {
     "name": "stdout",
     "output_type": "stream",
     "text": [
      "0.27466343080296235 0.9470588235294117\n",
      "0.367838054895401 0.9047619047619048\n"
     ]
    },
    {
     "name": "stderr",
     "output_type": "stream",
     "text": [
      "02:14 Elapsed |  67% done |██████▋   | 20/30 [01:09 remaining |  6.97s/epoch]"
     ]
    },
    {
     "name": "stdout",
     "output_type": "stream",
     "text": [
      "0.2764280043104116 0.9529411764705882\n",
      "0.46868187189102173 0.8095238095238095\n"
     ]
    },
    {
     "name": "stderr",
     "output_type": "stream",
     "text": [
      "02:21 Elapsed |  70% done |███████   | 21/30 [01:02 remaining |  6.98s/epoch]"
     ]
    },
    {
     "name": "stdout",
     "output_type": "stream",
     "text": [
      "0.27170258620206045 0.9529411764705882\n",
      "0.44689619541168213 0.8571428571428571\n"
     ]
    },
    {
     "name": "stderr",
     "output_type": "stream",
     "text": [
      "02:28 Elapsed |  73% done |███████▎  | 22/30 [00:55 remaining |  6.98s/epoch]"
     ]
    },
    {
     "name": "stdout",
     "output_type": "stream",
     "text": [
      "0.2691491419778151 0.9529411764705882\n",
      "0.4518860876560211 0.8571428571428571\n"
     ]
    },
    {
     "name": "stderr",
     "output_type": "stream",
     "text": [
      "02:35 Elapsed |  77% done |███████▋  | 23/30 [00:48 remaining |  7.00s/epoch]"
     ]
    },
    {
     "name": "stdout",
     "output_type": "stream",
     "text": [
      "0.25718366126803793 0.9647058823529412\n",
      "0.4608364999294281 0.8571428571428571\n"
     ]
    },
    {
     "name": "stderr",
     "output_type": "stream",
     "text": [
      "02:42 Elapsed |  80% done |████████  | 24/30 [00:42 remaining |  7.02s/epoch]"
     ]
    },
    {
     "name": "stdout",
     "output_type": "stream",
     "text": [
      "0.2556683543850394 0.9647058823529412\n",
      "0.47944292426109314 0.8095238095238095\n"
     ]
    },
    {
     "name": "stderr",
     "output_type": "stream",
     "text": [
      "02:49 Elapsed |  83% done |████████▎ | 25/30 [00:35 remaining |  7.01s/epoch]"
     ]
    },
    {
     "name": "stdout",
     "output_type": "stream",
     "text": [
      "0.249927097734283 0.9705882352941176\n",
      "0.4697447717189789 0.8095238095238095\n"
     ]
    },
    {
     "name": "stderr",
     "output_type": "stream",
     "text": [
      "02:56 Elapsed |  87% done |████████▋ | 26/30 [00:28 remaining |  7.04s/epoch]"
     ]
    },
    {
     "name": "stdout",
     "output_type": "stream",
     "text": [
      "0.25122976390754476 0.9705882352941176\n",
      "0.4669288098812103 0.8571428571428571\n"
     ]
    },
    {
     "name": "stderr",
     "output_type": "stream",
     "text": [
      "03:03 Elapsed |  90% done |█████████ | 27/30 [00:20 remaining |  6.98s/epoch]"
     ]
    },
    {
     "name": "stdout",
     "output_type": "stream",
     "text": [
      "0.2622305195997743 0.9588235294117647\n",
      "0.4612819254398346 0.8095238095238095\n"
     ]
    },
    {
     "name": "stderr",
     "output_type": "stream",
     "text": [
      "03:10 Elapsed |  93% done |█████████▎| 28/30 [00:13 remaining |  6.97s/epoch]"
     ]
    },
    {
     "name": "stdout",
     "output_type": "stream",
     "text": [
      "0.26332688761108064 0.9588235294117647\n",
      "0.4833888113498688 0.8095238095238095\n"
     ]
    },
    {
     "name": "stderr",
     "output_type": "stream",
     "text": [
      "03:17 Elapsed |  97% done |█████████▋| 29/30 [00:06 remaining |  6.98s/epoch]"
     ]
    },
    {
     "name": "stdout",
     "output_type": "stream",
     "text": [
      "0.2618507940979565 0.9588235294117647\n",
      "0.49026238918304443 0.8095238095238095\n"
     ]
    },
    {
     "name": "stderr",
     "output_type": "stream",
     "text": [
      "03:24 Elapsed | 100% done |██████████| 30/30 [00:00 remaining |  6.81s/epoch]"
     ]
    },
    {
     "name": "stdout",
     "output_type": "stream",
     "text": [
      "0.2567354664206505 0.9647058823529412\n",
      "0.45840543508529663 0.8095238095238095\n",
      "train loss and accuracy:  0.2567354664206505 0.9647058823529412\n",
      "val loss and accuracy:  0.45840543508529663 0.8095238095238095\n"
     ]
    },
    {
     "name": "stderr",
     "output_type": "stream",
     "text": [
      "\n"
     ]
    }
   ],
   "source": [
    "if(train_flag):\n",
    "    for t in tqdm(range(epochs), bar_format=\"{elapsed} Elapsed | {percentage:3.0f}% done |{bar}| {n_fmt}/{total_fmt} [{remaining} remaining | {rate_fmt}{postfix}]\", unit=\"epoch\", total=epochs):\n",
    "        train_loop(df_train, model, loss_fn, optimizer, history)\n",
    "        val_loop(df_val, model, loss_fn, history)\n",
    "    print(\"train loss and accuracy: \", history['train_loss'][-1], history['train_accuracy'][-1])\n",
    "    print(\"val loss and accuracy: \", history['val_loss'][-1], history['val_accuracy'][-1])\n",
    "else:\n",
    "    model.load_state_dict(torch.load(\"param3_q_15.pth\", weights_only=True))\n",
    "    model.eval()"
   ]
  },
  {
   "cell_type": "code",
   "execution_count": 13,
   "metadata": {},
   "outputs": [
    {
     "data": {
      "image/png": "[encoded data removed]",
      "text/plain": [
       "<Figure size 800x800 with 2 Axes>"
      ]
     },
     "metadata": {},
     "output_type": "display_data"
    }
   ],
   "source": [
    "if(train_flag):\n",
    "    epochs_range = range(epochs)\n",
    "    plt.figure(figsize=(8, 8))\n",
    "    plt.subplot(1, 2, 1)\n",
    "    plt.plot(epochs_range, history['train_accuracy'], label='Training Accuracy', color='red')\n",
    "    plt.plot(epochs_range, history['val_accuracy'], label='Validation Accuracy', color='blue')\n",
    "    plt.legend(loc='lower right')\n",
    "    plt.title('Training and Validation Accuracy')\n",
    "    plt.grid()\n",
    "\n",
    "    plt.subplot(1, 2, 2)\n",
    "    plt.plot(epochs_range, history['train_loss'], label='Training Loss', color='red')\n",
    "    plt.plot(epochs_range, history['val_loss'], label='Validation Loss', color='blue')\n",
    "    plt.legend(loc='lower left')\n",
    "    plt.title('Training and Validation Loss')\n",
    "    plt.grid()\n",
    "    plt.show()\n"
   ]
  },
  {
   "cell_type": "code",
   "execution_count": 14,
   "metadata": {},
   "outputs": [
    {
     "name": "stdout",
     "output_type": "stream",
     "text": [
      "test loss and accuracy:  0.0028403190424962136 0.8125\n",
      "test loss and accuracy on target  0 :  0.0006514645012264901 1.0\n",
      "test loss and accuracy on target  1 :  0.005029173583765937 0.625\n"
     ]
    }
   ],
   "source": [
    "tloss, tacc = test_loop(df_test, model, loss_fn, history, 2)\n",
    "print(\"test loss and accuracy: \", tloss, tacc)\n",
    "for i in range (num_classes):\n",
    "    print(\"test loss and accuracy on target \", i, \": \", history['test_loss'][i][0], history['test_accuracy'][i][0])"
   ]
  },
  {
   "cell_type": "code",
   "execution_count": 15,
   "metadata": {},
   "outputs": [],
   "source": [
    "if(train_flag):\n",
    "    torch.save(model.state_dict(), 'param3_q_15.pth')"
   ]
  }
 ],
 "metadata": {
  "accelerator": "TPU",
  "colab": {
   "provenance": []
  },
  "gpuClass": "standard",
  "kernelspec": {
   "display_name": "Python 3",
   "language": "python",
   "name": "python3"
  },
  "language_info": {
   "codemirror_mode": {
    "name": "ipython",
    "version": 3
   },
   "file_extension": ".py",
   "mimetype": "text/x-python",
   "name": "python",
   "nbconvert_exporter": "python",
   "pygments_lexer": "ipython3",
   "version": "3.11.5"
  },
  "orig_nbformat": 4
 },
 "nbformat": 4,
 "nbformat_minor": 0
}
