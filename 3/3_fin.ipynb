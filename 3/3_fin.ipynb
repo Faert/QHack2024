{
 "cells": [
  {
   "attachments": {},
   "cell_type": "markdown",
   "metadata": {
    "id": "dzUetH28tKkc"
   },
   "source": [
    "#  Classical-quantum Neural Network for binary classification"
   ]
  },
  {
   "cell_type": "code",
   "execution_count": null,
   "metadata": {
    "id": "WIUCtTrbtKkc"
   },
   "outputs": [],
   "source": [
    "import torch\n",
    "import torch.nn as nn\n",
    "import torch.nn.functional as F\n",
    "\n",
    "from sklearn.feature_extraction.text import CountVectorizer\n",
    "\n",
    "import pandas as pd\n",
    "import matplotlib.pyplot as plt\n",
    "import numpy as np\n",
    "import os, random, json, math\n",
    "from tqdm import tqdm\n",
    "import nltk\n",
    "from nltk.corpus import stopwords\n",
    "import re\n",
    "\n",
    "import qiskit\n",
    "from qiskit import transpile\n",
    "from qiskit.visualization import *\n",
    "from qiskit_aer import AerSimulator\n",
    "from qiskit.circuit.library import NLocal\n",
    "from qiskit.circuit import QuantumCircuit, ClassicalRegister, ParameterVector\n",
    "from qiskit.transpiler.passes import RemoveBarriers\n",
    "from qiskit_machine_learning.connectors import TorchConnector\n",
    "from qiskit_machine_learning.neural_networks import SamplerQNN"
   ]
  },
  {
   "cell_type": "markdown",
   "metadata": {},
   "source": [
    "## Data loading"
   ]
  },
  {
   "cell_type": "code",
   "execution_count": null,
   "metadata": {},
   "outputs": [],
   "source": [
    "num_classes = 2\n",
    "trapart = 0.8\n",
    "val_part = 0.5 # from 1 - train_part\n",
    "\n",
    "# hyper parameters\n",
    "train_flag = False\n",
    "epochs=30\n",
    "initial_lr = 0.00025\n",
    "w_decay = 0.0001\n",
    "q_reps = 3"
   ]
  },
  {
   "cell_type": "code",
   "execution_count": null,
   "metadata": {},
   "outputs": [],
   "source": [
    "dataset_path = 'Dataset/'\n",
    "dataset_name_train = 'task-3-dataset.csv'\n",
    "dataset_name = 'test50.csv'\n",
    "df = pd.read_csv(dataset_path+dataset_name)\n",
    "df_tr = pd.read_csv(dataset_path+dataset_name_train)\n",
    "df_train_size = len(df_tr)\n",
    "df = pd.concat([df_tr, df])\n",
    "text = list(df['отзывы'])"
   ]
  },
  {
   "cell_type": "code",
   "execution_count": 5,
   "metadata": {},
   "outputs": [],
   "source": [
    "lemmatize = nltk.WordNetLemmatizer()\n",
    "stop_words = set(stopwords.words('russian'))\n",
    "new_text = []\n",
    "for i in df['отзывы']:\n",
    "    text_ = re.sub(\"[^a-zA-Zа-яА-Я1-9]\",\" \",str(i))\n",
    "    text_ = nltk.word_tokenize(text_, language='russian')\n",
    "    text_ = [word for word in text_ if word not in stop_words]\n",
    "    text_ = [lemmatize.lemmatize(word) for word in text_]\n",
    "    text_ = \" \".join(text_)\n",
    "    new_text.append(text_)"
   ]
  },
  {
   "cell_type": "code",
   "execution_count": 6,
   "metadata": {},
   "outputs": [
    {
     "name": "stdout",
     "output_type": "stream",
     "text": [
      "1346\n"
     ]
    }
   ],
   "source": [
    "count = CountVectorizer(stop_words=\"english\")\n",
    "matrix = count.fit_transform(new_text).toarray()\n",
    "max_len = len(matrix[0])\n",
    "print(max_len)"
   ]
  },
  {
   "cell_type": "code",
   "execution_count": 7,
   "metadata": {},
   "outputs": [
    {
     "name": "stdout",
     "output_type": "stream",
     "text": [
      "210 50\n"
     ]
    }
   ],
   "source": [
    "d = {'text_vec': matrix.tolist(), 'val': [1 if x=='+' else 0 for x in df['разметка']]}\n",
    "df2 = pd.DataFrame(data=d)\n",
    "\n",
    "df_train = df2[:df_train_size]\n",
    "df_test = df2.drop(df_train.index)\n",
    "print(len(df_train), len(df_test))"
   ]
  },
  {
   "cell_type": "markdown",
   "metadata": {},
   "source": [
    "## The Network"
   ]
  },
  {
   "cell_type": "code",
   "execution_count": 8,
   "metadata": {},
   "outputs": [],
   "source": [
    "### QUANTUM CLASS ###\n",
    "\n",
    "# rotation block:\n",
    "rot = QuantumCircuit(1)\n",
    "params = ParameterVector('r', 1)\n",
    "rot.ry(params[0], 0)\n",
    "\n",
    "# entanglement block:\n",
    "ent = QuantumCircuit(2)\n",
    "ent.cx(0, 1)\n",
    "\n",
    "class InitialStateQC:\n",
    "    def __init__(self, n_qubits):\n",
    "        self._circuit = qiskit.QuantumCircuit(n_qubits)\n",
    "        params = ParameterVector('φ', n_qubits)\n",
    "        \n",
    "        for i in range(n_qubits):\n",
    "            self._circuit.ry(params[i], i)\n",
    "\n",
    "\n",
    "class MyQuantumCircuit:\n",
    "    def __init__(self, n_qubits, backend, input_circ = None, shots = 1024, reps = 2, measure = True):\n",
    "        if(n_qubits == 1):\n",
    "            qc_nlocal = NLocal(num_qubits=1, rotation_blocks=rot, entanglement='linear',\n",
    "                skip_final_rotation_layer=True, insert_barriers=True, reps=reps, initial_state=input_circ)#\n",
    "        else:\n",
    "            qc_nlocal = NLocal(num_qubits=n_qubits, rotation_blocks=rot,\n",
    "                entanglement_blocks=ent, entanglement='linear',\n",
    "                skip_final_rotation_layer=True, insert_barriers=True, reps=reps, initial_state=input_circ)\n",
    "\n",
    "        qc_nlocal = qc_nlocal.decompose()\n",
    "        qc_nlocal = RemoveBarriers()(qc_nlocal)\n",
    "        if(measure):\n",
    "            out_size = int(math.log(n_qubits, 2))\n",
    "            qc_nlocal.add_register(ClassicalRegister(out_size))\n",
    "            for i in range(out_size - 1, -1, -1) :\n",
    "                qc_nlocal.measure(n_qubits - i - 1, i)\n",
    "        self._circuit = qc_nlocal\n",
    "\n",
    "        self.backend = backend\n",
    "        self.shots = shots\n",
    "        self.num_qubit = n_qubits\n",
    "    \n",
    "    def run(self, param, backend = None, shots = 0):\n",
    "        if (backend == None):\n",
    "            backend = self.backend\n",
    "        if (shots == 0):\n",
    "            shots = self.shots\n",
    "\n",
    "\n",
    "        t_qc = transpile(self._circuit.assign_parameters(param.cpu().data.numpy()), backend)\n",
    "        job = backend.run(t_qc)\n",
    "        result = job.result().get_counts()\n",
    "\n",
    "        return result"
   ]
  },
  {
   "cell_type": "code",
   "execution_count": 9,
   "metadata": {},
   "outputs": [
    {
     "name": "stderr",
     "output_type": "stream",
     "text": [
      "No interpret function given, output_shape will be automatically determined as 2^num_qubits.\n"
     ]
    }
   ],
   "source": [
    "def create_qnn(num_classes = 2):\n",
    "    feature_map = InitialStateQC(num_classes)._circuit\n",
    "    ansatz = MyQuantumCircuit(num_classes, AerSimulator(), measure = False, reps = q_reps)._circuit\n",
    "    qc = QuantumCircuit(num_classes)\n",
    "    qc.compose(feature_map, inplace=True)\n",
    "    qc.compose(ansatz, inplace=True)\n",
    "\n",
    "    qnn = SamplerQNN(\n",
    "        circuit=qc,\n",
    "        input_params=feature_map.parameters,\n",
    "        weight_params=ansatz.parameters,\n",
    "        output_shape=num_classes,\n",
    "        input_gradients=True\n",
    "    )\n",
    "    return qnn\n",
    "\n",
    "qnn = create_qnn(num_classes)"
   ]
  },
  {
   "cell_type": "code",
   "execution_count": null,
   "metadata": {},
   "outputs": [
    {
     "name": "stdout",
     "output_type": "stream",
     "text": [
      "Sequential(\n",
      "  (0): Linear(in_features=1346, out_features=1160, bias=True)\n",
      "  (1): QNet(\n",
      "    (layer_2): Linear(in_features=1160, out_features=256, bias=True)\n",
      "    (layer_3): Linear(in_features=256, out_features=64, bias=True)\n",
      "    (layer_qin): Linear(in_features=64, out_features=2, bias=True)\n",
      "    (layer_qout): Linear(in_features=4, out_features=1, bias=True)\n",
      "    (relu): ReLU()\n",
      "    (sigmoid): Sigmoid()\n",
      "    (dropout): Dropout(p=0.1, inplace=False)\n",
      "    (qlayer): TorchConnector()\n",
      "  )\n",
      ")\n"
     ]
    },
    {
     "name": "stderr",
     "output_type": "stream",
     "text": [
      "c:\\Users\\Александр\\AppData\\Local\\Programs\\Python\\Python311\\Lib\\site-packages\\qiskit_machine_learning\\connectors\\torch_connector.py:306: UserWarning: To copy construct from a tensor, it is recommended to use sourceTensor.clone().detach() or sourceTensor.clone().detach().requires_grad_(True), rather than torch.tensor(sourceTensor).\n",
      "  self._weights.data = torch.tensor(initial_weights, dtype=torch.float)\n"
     ]
    }
   ],
   "source": [
    "n_input_dim = 1160#!!!\n",
    "n_hidden2 = 256\n",
    "n_hidden3 = 64\n",
    "num_q = num_classes\n",
    "n_output =  1\n",
    "\n",
    "\n",
    "class QNet(nn.Module):\n",
    "    def __init__(self):\n",
    "        super(QNet, self).__init__()\n",
    "        self.layer_2 = nn.Linear(n_input_dim, n_hidden2)\n",
    "        self.layer_3 = nn.Linear(n_hidden2, n_hidden3)\n",
    "        self.layer_qin = nn.Linear(n_hidden3, num_q)\n",
    "        self.layer_qout = nn.Linear(2**num_q, n_output) \n",
    "        \n",
    "        self.relu = nn.ReLU()\n",
    "        self.sigmoid =  nn.Sigmoid()\n",
    "        self.dropout = nn.Dropout(p=0.1)\n",
    "\n",
    "        self.qlayer = TorchConnector(qnn, initial_weights=torch.zeros(num_classes*q_reps))\n",
    "        \n",
    "        \n",
    "    def forward(self, inputs):\n",
    "        x = self.relu(self.layer_2(inputs))\n",
    "        x = self.dropout(x)\n",
    "        x = self.relu(self.layer_3(x))\n",
    "        x = self.dropout(x)\n",
    "        x = self.relu(self.layer_qin(x))\n",
    "        x = self.qlayer(x)\n",
    "        x = self.sigmoid(self.layer_qout(x))\n",
    "        \n",
    "        return x\n",
    "    \n",
    "model = QNet()\n",
    "model = nn.Sequential(nn.Linear(max_len, n_input_dim), model)\n",
    "print(model)"
   ]
  },
  {
   "cell_type": "code",
   "execution_count": 11,
   "metadata": {
    "colab": {
     "base_uri": "https://localhost:8080/",
     "height": 437
    },
    "id": "jA8-TNMwtKks",
    "outputId": "a7c4c711-bc23-4835-e1a8-0d9232d8b050"
   },
   "outputs": [],
   "source": [
    "optimizer = torch.optim.Adam(model.parameters(), lr=initial_lr, weight_decay=w_decay, amsgrad=True)\n",
    "loss_fn = nn.BCELoss()\n",
    "\n",
    "def train_loop(dataloader, model, loss_fn, optimizer, history):\n",
    "    size = len(dataloader)\n",
    "\n",
    "    loss_, accuracy = 0, 0\n",
    "    for row in dataloader.iterrows():\n",
    "        pred = model(torch.tensor(row[1]['text_vec'], dtype=torch.float, requires_grad=True)).float()\n",
    "        loss = loss_fn(pred, torch.tensor([row[1]['val']]).float())\n",
    "        optimizer.zero_grad()\n",
    "        loss.backward()\n",
    "        optimizer.step()\n",
    "\n",
    "        loss_ += loss.item()\n",
    "        accuracy += (round(pred[0].tolist()) == row[1]['val'])\n",
    "    \n",
    "    loss_ /= size\n",
    "    accuracy /= size\n",
    "    print(loss_, accuracy)\n",
    "    history['train_loss'].append(loss_)\n",
    "    history['train_accuracy'].append(accuracy)\n",
    "    return loss_, accuracy\n",
    "\n",
    "\n",
    "def val_loop(dataloader, model, loss_fn, history):\n",
    "    size = len(dataloader)\n",
    "    loss, accuracy = 0, 0\n",
    "\n",
    "    with torch.no_grad():\n",
    "        for row in dataloader.iterrows():\n",
    "            \n",
    "            pred = model(torch.tensor(row[1]['text_vec'], dtype=torch.float, requires_grad=True)).float()\n",
    "            loss += loss_fn(pred, torch.tensor([row[1]['val']]).float())\n",
    "            accuracy += (round(pred[0].tolist()) == row[1]['val'])\n",
    "\n",
    "    loss /= size\n",
    "    accuracy /= size\n",
    "    print(loss.item(), accuracy)\n",
    "    history['val_loss'].append(loss.item())\n",
    "    history['val_accuracy'].append(accuracy)\n",
    "    return loss, accuracy\n",
    "\n",
    "def test_loop(dataloader, model, loss_fn, history, num_classes):\n",
    "    size = len(dataloader)\n",
    "    count = []\n",
    "\n",
    "    for i in range(num_classes):\n",
    "        count.append(0)\n",
    "\n",
    "    with torch.no_grad():\n",
    "        for row in dataloader.iterrows():\n",
    "            \n",
    "            pred = model(torch.tensor(row[1]['text_vec'], dtype=torch.float, requires_grad=True)).float()\n",
    "            count[row[1]['val']] += 1\n",
    "            history['test_loss'][row[1]['val']][0] += (loss_fn(pred, torch.tensor([row[1]['val']]).float())).item()\n",
    "            history['test_accuracy'][row[1]['val']][0] += round(pred[0].tolist()) == row[1]['val']\n",
    "\n",
    "    loss, accuracy = 0, 0\n",
    "    for i in range(num_classes):\n",
    "        history['test_loss'][i][0] /= size\n",
    "        loss += history['test_loss'][i][0]\n",
    "        history['test_accuracy'][i][0] /= count[i]\n",
    "        accuracy += history['test_accuracy'][i][0]\n",
    "\n",
    "    loss /= num_classes\n",
    "    accuracy /= num_classes\n",
    "    \n",
    "    return loss, accuracy"
   ]
  },
  {
   "cell_type": "code",
   "execution_count": 12,
   "metadata": {},
   "outputs": [],
   "source": [
    "history = {\n",
    "    'train_loss':[],\n",
    "    'train_accuracy':[],\n",
    "    'val_loss':[],\n",
    "    'val_accuracy':[],\n",
    "    'test_loss':[],\n",
    "    'test_accuracy':[]\n",
    "}\n",
    "\n",
    "for i in range(num_classes):\n",
    "    history['test_loss'].append([0])\n",
    "    history['test_accuracy'].append([0])\n"
   ]
  },
  {
   "cell_type": "code",
   "execution_count": 13,
   "metadata": {},
   "outputs": [
    {
     "name": "stderr",
     "output_type": "stream",
     "text": [
      "00:00 Elapsed |   0% done |          | 0/30 [? remaining | ?epoch/s]"
     ]
    },
    {
     "name": "stdout",
     "output_type": "stream",
     "text": [
      "0.6957839253402892 0.4238095238095238\n"
     ]
    },
    {
     "name": "stderr",
     "output_type": "stream",
     "text": [
      "00:11 Elapsed |   3% done |▎         | 1/30 [05:46 remaining | 11.96s/epoch]"
     ]
    },
    {
     "name": "stdout",
     "output_type": "stream",
     "text": [
      "0.69214928150177 0.54\n",
      "0.6706558104072299 0.4380952380952381\n"
     ]
    },
    {
     "name": "stderr",
     "output_type": "stream",
     "text": [
      "00:24 Elapsed |   7% done |▋         | 2/30 [05:39 remaining | 12.14s/epoch]"
     ]
    },
    {
     "name": "stdout",
     "output_type": "stream",
     "text": [
      "0.6702024936676025 0.68\n",
      "0.635754135392961 0.9142857142857143\n"
     ]
    },
    {
     "name": "stderr",
     "output_type": "stream",
     "text": [
      "00:35 Elapsed |  10% done |█         | 3/30 [05:18 remaining | 11.81s/epoch]"
     ]
    },
    {
     "name": "stdout",
     "output_type": "stream",
     "text": [
      "0.6651743054389954 0.74\n",
      "0.6151823516402926 0.9380952380952381\n"
     ]
    },
    {
     "name": "stderr",
     "output_type": "stream",
     "text": [
      "00:47 Elapsed |  13% done |█▎        | 4/30 [05:08 remaining | 11.87s/epoch]"
     ]
    },
    {
     "name": "stdout",
     "output_type": "stream",
     "text": [
      "0.6624326109886169 0.74\n",
      "0.5971319940828141 0.9619047619047619\n"
     ]
    },
    {
     "name": "stderr",
     "output_type": "stream",
     "text": [
      "01:00 Elapsed |  17% done |█▋        | 5/30 [05:06 remaining | 12.24s/epoch]"
     ]
    },
    {
     "name": "stdout",
     "output_type": "stream",
     "text": [
      "0.6557385921478271 0.7\n",
      "0.5818328292596908 0.9761904761904762\n"
     ]
    },
    {
     "name": "stderr",
     "output_type": "stream",
     "text": [
      "01:12 Elapsed |  20% done |██        | 6/30 [04:55 remaining | 12.32s/epoch]"
     ]
    },
    {
     "name": "stdout",
     "output_type": "stream",
     "text": [
      "0.6452532410621643 0.66\n",
      "0.5682961842843465 0.9714285714285714\n"
     ]
    },
    {
     "name": "stderr",
     "output_type": "stream",
     "text": [
      "01:25 Elapsed |  23% done |██▎       | 7/30 [04:43 remaining | 12.31s/epoch]"
     ]
    },
    {
     "name": "stdout",
     "output_type": "stream",
     "text": [
      "0.6619654297828674 0.66\n",
      "0.5540300850357328 0.9619047619047619\n"
     ]
    },
    {
     "name": "stderr",
     "output_type": "stream",
     "text": [
      "01:36 Elapsed |  27% done |██▋       | 8/30 [04:23 remaining | 11.96s/epoch]"
     ]
    },
    {
     "name": "stdout",
     "output_type": "stream",
     "text": [
      "0.6377715468406677 0.68\n",
      "0.5374506761630377 0.9666666666666667\n"
     ]
    },
    {
     "name": "stderr",
     "output_type": "stream",
     "text": [
      "01:47 Elapsed |  30% done |███       | 9/30 [04:06 remaining | 11.76s/epoch]"
     ]
    },
    {
     "name": "stdout",
     "output_type": "stream",
     "text": [
      "0.6348083019256592 0.7\n",
      "0.5290800656591143 0.9571428571428572\n"
     ]
    },
    {
     "name": "stderr",
     "output_type": "stream",
     "text": [
      "01:58 Elapsed |  33% done |███▎      | 10/30 [03:51 remaining | 11.56s/epoch]"
     ]
    },
    {
     "name": "stdout",
     "output_type": "stream",
     "text": [
      "0.6520729660987854 0.62\n",
      "0.5145085543394089 0.9523809523809523\n"
     ]
    },
    {
     "name": "stderr",
     "output_type": "stream",
     "text": [
      "02:09 Elapsed |  37% done |███▋      | 11/30 [03:35 remaining | 11.35s/epoch]"
     ]
    },
    {
     "name": "stdout",
     "output_type": "stream",
     "text": [
      "0.6646272540092468 0.58\n",
      "0.5016634502581188 0.9666666666666667\n"
     ]
    },
    {
     "name": "stderr",
     "output_type": "stream",
     "text": [
      "02:21 Elapsed |  40% done |████      | 12/30 [03:23 remaining | 11.31s/epoch]"
     ]
    },
    {
     "name": "stdout",
     "output_type": "stream",
     "text": [
      "0.6435437202453613 0.64\n",
      "0.4812101446446918 0.9714285714285714\n"
     ]
    },
    {
     "name": "stderr",
     "output_type": "stream",
     "text": [
      "02:33 Elapsed |  43% done |████▎     | 13/30 [03:16 remaining | 11.55s/epoch]"
     ]
    },
    {
     "name": "stdout",
     "output_type": "stream",
     "text": [
      "0.6342664361000061 0.68\n",
      "0.4652498211179461 0.9857142857142858\n"
     ]
    },
    {
     "name": "stderr",
     "output_type": "stream",
     "text": [
      "02:44 Elapsed |  47% done |████▋     | 14/30 [03:03 remaining | 11.48s/epoch]"
     ]
    },
    {
     "name": "stdout",
     "output_type": "stream",
     "text": [
      "0.6275507807731628 0.68\n",
      "0.45618051758834294 0.9809523809523809\n"
     ]
    },
    {
     "name": "stderr",
     "output_type": "stream",
     "text": [
      "02:55 Elapsed |  50% done |█████     | 15/30 [02:49 remaining | 11.33s/epoch]"
     ]
    },
    {
     "name": "stdout",
     "output_type": "stream",
     "text": [
      "0.6445319652557373 0.64\n",
      "0.4478227811200278 0.9714285714285714\n"
     ]
    },
    {
     "name": "stderr",
     "output_type": "stream",
     "text": [
      "03:06 Elapsed |  53% done |█████▎    | 16/30 [02:38 remaining | 11.35s/epoch]"
     ]
    },
    {
     "name": "stdout",
     "output_type": "stream",
     "text": [
      "0.6351852416992188 0.66\n",
      "0.43577050325416383 0.9761904761904762\n"
     ]
    },
    {
     "name": "stderr",
     "output_type": "stream",
     "text": [
      "03:17 Elapsed |  57% done |█████▋    | 17/30 [02:25 remaining | 11.22s/epoch]"
     ]
    },
    {
     "name": "stdout",
     "output_type": "stream",
     "text": [
      "0.6504721641540527 0.62\n",
      "0.42371229969319846 0.9809523809523809\n"
     ]
    },
    {
     "name": "stderr",
     "output_type": "stream",
     "text": [
      "03:28 Elapsed |  60% done |██████    | 18/30 [02:14 remaining | 11.18s/epoch]"
     ]
    },
    {
     "name": "stdout",
     "output_type": "stream",
     "text": [
      "0.6404111981391907 0.66\n",
      "0.4156759169839677 0.9857142857142858\n"
     ]
    },
    {
     "name": "stderr",
     "output_type": "stream",
     "text": [
      "03:39 Elapsed |  63% done |██████▎   | 19/30 [02:01 remaining | 11.06s/epoch]"
     ]
    },
    {
     "name": "stdout",
     "output_type": "stream",
     "text": [
      "0.6217678189277649 0.7\n",
      "0.4046883171512967 0.9904761904761905\n"
     ]
    },
    {
     "name": "stderr",
     "output_type": "stream",
     "text": [
      "03:50 Elapsed |  67% done |██████▋   | 20/30 [01:49 remaining | 10.98s/epoch]"
     ]
    },
    {
     "name": "stdout",
     "output_type": "stream",
     "text": [
      "0.6315032243728638 0.68\n",
      "0.3965700551157906 0.9857142857142858\n"
     ]
    },
    {
     "name": "stderr",
     "output_type": "stream",
     "text": [
      "04:01 Elapsed |  70% done |███████   | 21/30 [01:38 remaining | 10.94s/epoch]"
     ]
    },
    {
     "name": "stdout",
     "output_type": "stream",
     "text": [
      "0.6101067066192627 0.68\n",
      "0.3832407376595906 0.9904761904761905\n"
     ]
    },
    {
     "name": "stderr",
     "output_type": "stream",
     "text": [
      "04:11 Elapsed |  73% done |███████▎  | 22/30 [01:26 remaining | 10.85s/epoch]"
     ]
    },
    {
     "name": "stdout",
     "output_type": "stream",
     "text": [
      "0.6128292679786682 0.68\n",
      "0.37270683475903105 0.9904761904761905\n"
     ]
    },
    {
     "name": "stderr",
     "output_type": "stream",
     "text": [
      "04:22 Elapsed |  77% done |███████▋  | 23/30 [01:16 remaining | 10.89s/epoch]"
     ]
    },
    {
     "name": "stdout",
     "output_type": "stream",
     "text": [
      "0.6034221053123474 0.7\n",
      "0.3668258131969543 0.9857142857142858\n"
     ]
    },
    {
     "name": "stderr",
     "output_type": "stream",
     "text": [
      "04:33 Elapsed |  80% done |████████  | 24/30 [01:05 remaining | 10.86s/epoch]"
     ]
    },
    {
     "name": "stdout",
     "output_type": "stream",
     "text": [
      "0.6034824252128601 0.72\n",
      "0.3606919798113051 0.9857142857142858\n"
     ]
    },
    {
     "name": "stderr",
     "output_type": "stream",
     "text": [
      "04:44 Elapsed |  83% done |████████▎ | 25/30 [00:54 remaining | 10.88s/epoch]"
     ]
    },
    {
     "name": "stdout",
     "output_type": "stream",
     "text": [
      "0.5964550971984863 0.7\n",
      "0.35116189093816846 0.9857142857142858\n"
     ]
    },
    {
     "name": "stderr",
     "output_type": "stream",
     "text": [
      "04:55 Elapsed |  87% done |████████▋ | 26/30 [00:43 remaining | 10.87s/epoch]"
     ]
    },
    {
     "name": "stdout",
     "output_type": "stream",
     "text": [
      "0.6097373366355896 0.66\n",
      "0.3450537589334306 0.9904761904761905\n"
     ]
    },
    {
     "name": "stderr",
     "output_type": "stream",
     "text": [
      "05:06 Elapsed |  90% done |█████████ | 27/30 [00:32 remaining | 10.94s/epoch]"
     ]
    },
    {
     "name": "stdout",
     "output_type": "stream",
     "text": [
      "0.6090576648712158 0.7\n",
      "0.3381548071191424 0.9857142857142858\n"
     ]
    },
    {
     "name": "stderr",
     "output_type": "stream",
     "text": [
      "05:17 Elapsed |  93% done |█████████▎| 28/30 [00:21 remaining | 10.90s/epoch]"
     ]
    },
    {
     "name": "stdout",
     "output_type": "stream",
     "text": [
      "0.6067073941230774 0.7\n",
      "0.3324143178406216 0.9809523809523809\n"
     ]
    },
    {
     "name": "stderr",
     "output_type": "stream",
     "text": [
      "05:28 Elapsed |  97% done |█████████▋| 29/30 [00:10 remaining | 10.92s/epoch]"
     ]
    },
    {
     "name": "stdout",
     "output_type": "stream",
     "text": [
      "0.5951558351516724 0.7\n",
      "0.3253769577968688 0.9857142857142858\n"
     ]
    },
    {
     "name": "stderr",
     "output_type": "stream",
     "text": [
      "05:39 Elapsed | 100% done |██████████| 30/30 [00:00 remaining | 11.31s/epoch]"
     ]
    },
    {
     "name": "stdout",
     "output_type": "stream",
     "text": [
      "0.5998432636260986 0.72\n",
      "train loss and accuracy:  0.3253769577968688 0.9857142857142858\n",
      "val loss and accuracy:  0.5998432636260986 0.72\n"
     ]
    },
    {
     "name": "stderr",
     "output_type": "stream",
     "text": [
      "\n"
     ]
    }
   ],
   "source": [
    "if(train_flag):\n",
    "    for t in tqdm(range(epochs), bar_format=\"{elapsed} Elapsed | {percentage:3.0f}% done |{bar}| {n_fmt}/{total_fmt} [{remaining} remaining | {rate_fmt}{postfix}]\", unit=\"epoch\", total=epochs):\n",
    "        train_loop(df_train, model, loss_fn, optimizer, history)\n",
    "        val_loop(df_test, model, loss_fn, history)\n",
    "    print(\"train loss and accuracy: \", history['train_loss'][-1], history['train_accuracy'][-1])\n",
    "    print(\"val loss and accuracy: \", history['val_loss'][-1], history['val_accuracy'][-1])\n",
    "else:\n",
    "    model.load_state_dict(torch.load(\"param3_q_15.pth\", weights_only=True))\n",
    "    model.eval()"
   ]
  },
  {
   "cell_type": "code",
   "execution_count": 14,
   "metadata": {},
   "outputs": [
    {
     "data": {
      "image/png": "[encoded data removed]",
      "text/plain": [
       "<Figure size 800x800 with 2 Axes>"
      ]
     },
     "metadata": {},
     "output_type": "display_data"
    }
   ],
   "source": [
    "if(train_flag):\n",
    "    epochs_range = range(epochs)\n",
    "    plt.figure(figsize=(8, 8))\n",
    "    plt.subplot(1, 2, 1)\n",
    "    plt.plot(epochs_range, history['train_accuracy'], label='Training Accuracy', color='red')\n",
    "    plt.plot(epochs_range, history['val_accuracy'], label='Validation Accuracy', color='blue')\n",
    "    plt.legend(loc='lower right')\n",
    "    plt.title('Training and Validation Accuracy')\n",
    "    plt.grid()\n",
    "\n",
    "    plt.subplot(1, 2, 2)\n",
    "    plt.plot(epochs_range, history['train_loss'], label='Training Loss', color='red')\n",
    "    plt.plot(epochs_range, history['val_loss'], label='Validation Loss', color='blue')\n",
    "    plt.legend(loc='lower left')\n",
    "    plt.title('Training and Validation Loss')\n",
    "    plt.grid()\n",
    "    plt.show()\n"
   ]
  },
  {
   "cell_type": "code",
   "execution_count": 15,
   "metadata": {},
   "outputs": [
    {
     "name": "stdout",
     "output_type": "stream",
     "text": [
      "test loss and accuracy:  0.29329889386892316 0.7431561996779388\n",
      "test loss and accuracy on target  0 :  0.35015456318855287 0.7037037037037037\n",
      "test loss and accuracy on target  1 :  0.2364432245492935 0.782608695652174\n"
     ]
    }
   ],
   "source": [
    "tloss, tacc = test_loop(df_test, model, loss_fn, history, 2)\n",
    "print(\"test loss and accuracy: \", tloss, tacc)\n",
    "for i in range (num_classes):\n",
    "    print(\"test loss and accuracy on target \", i, \": \", history['test_loss'][i][0], history['test_accuracy'][i][0])"
   ]
  },
  {
   "cell_type": "code",
   "execution_count": 16,
   "metadata": {},
   "outputs": [],
   "source": [
    "if(train_flag):\n",
    "    torch.save(model.state_dict(), 'param3_q_15.pth')"
   ]
  }
 ],
 "metadata": {
  "accelerator": "TPU",
  "colab": {
   "provenance": []
  },
  "gpuClass": "standard",
  "kernelspec": {
   "display_name": "Python 3",
   "language": "python",
   "name": "python3"
  },
  "language_info": {
   "codemirror_mode": {
    "name": "ipython",
    "version": 3
   },
   "file_extension": ".py",
   "mimetype": "text/x-python",
   "name": "python",
   "nbconvert_exporter": "python",
   "pygments_lexer": "ipython3",
   "version": "3.11.5"
  },
  "orig_nbformat": 4
 },
 "nbformat": 4,
 "nbformat_minor": 0
}
