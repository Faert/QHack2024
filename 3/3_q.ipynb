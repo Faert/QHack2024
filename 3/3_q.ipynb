{
 "cells": [
  {
   "attachments": {},
   "cell_type": "markdown",
   "metadata": {
    "id": "dzUetH28tKkc"
   },
   "source": [
    "#  Classical-quantum Neural Network for binary classification"
   ]
  },
  {
   "cell_type": "code",
   "execution_count": 33,
   "metadata": {
    "id": "WIUCtTrbtKkc"
   },
   "outputs": [],
   "source": [
    "import torch\n",
    "import torch.nn as nn\n",
    "import torch.nn.functional as F\n",
    "\n",
    "from sklearn.feature_extraction.text import CountVectorizer\n",
    "\n",
    "import pandas as pd\n",
    "import matplotlib.pyplot as plt\n",
    "import numpy as np\n",
    "import os, random, json, math\n",
    "from tqdm import tqdm\n",
    "import nltk\n",
    "from nltk.corpus import stopwords\n",
    "import re\n",
    "\n",
    "import qiskit\n",
    "from qiskit import transpile\n",
    "from qiskit.visualization import *\n",
    "from qiskit_aer import AerSimulator\n",
    "from qiskit.circuit.library import NLocal\n",
    "from qiskit.circuit import QuantumCircuit, ClassicalRegister, ParameterVector\n",
    "from qiskit.transpiler.passes import RemoveBarriers\n",
    "from qiskit_machine_learning.connectors import TorchConnector\n",
    "from qiskit_machine_learning.neural_networks import SamplerQNN"
   ]
  },
  {
   "cell_type": "markdown",
   "metadata": {},
   "source": [
    "## Data loading"
   ]
  },
  {
   "cell_type": "code",
   "execution_count": null,
   "metadata": {},
   "outputs": [],
   "source": [
    "num_classes = 2\n",
    "max_image_in_class = 300\n",
    "train_part = 0.8\n",
    "val_part = 0.5 # from 1 - train_part\n",
    "\n",
    "# hyper parameters\n",
    "train_flag = False\n",
    "epochs=30\n",
    "initial_lr = 0.0005\n",
    "w_decay = 0.0001\n",
    "q_reps = 3"
   ]
  },
  {
   "cell_type": "code",
   "execution_count": 35,
   "metadata": {},
   "outputs": [],
   "source": [
    "dataset_path = 'Dataset/'\n",
    "dataset_name = 'task-3-dataset.csv'\n",
    "df = pd.read_csv(dataset_path+dataset_name)\n",
    "text = list(df['отзывы'])"
   ]
  },
  {
   "cell_type": "code",
   "execution_count": 36,
   "metadata": {},
   "outputs": [],
   "source": [
    "lemmatize = nltk.WordNetLemmatizer()\n",
    "stop_words = set(stopwords.words('russian'))\n",
    "new_text = []\n",
    "for i in df['отзывы']:\n",
    "    text_ = re.sub(\"[^a-zA-Zа-яА-Я1-9]\",\" \",i)\n",
    "    text_ = nltk.word_tokenize(text_, language='russian')\n",
    "    text_ = [word for word in text_ if word not in stop_words]\n",
    "    text_ = [lemmatize.lemmatize(word) for word in text_]\n",
    "    text_ = \" \".join(text_)\n",
    "    new_text.append(text_)"
   ]
  },
  {
   "cell_type": "code",
   "execution_count": 37,
   "metadata": {},
   "outputs": [
    {
     "name": "stdout",
     "output_type": "stream",
     "text": [
      "1160\n"
     ]
    }
   ],
   "source": [
    "count = CountVectorizer(stop_words=\"english\")\n",
    "matrix = count.fit_transform(new_text).toarray()\n",
    "max_len = len(matrix[0])\n",
    "print(max_len)"
   ]
  },
  {
   "cell_type": "code",
   "execution_count": 38,
   "metadata": {},
   "outputs": [],
   "source": [
    "d = {'text_vec': matrix.tolist(), 'val': [1 if x=='+' else 0 for x in df['разметка']]}\n",
    "df2 = pd.DataFrame(data=d)\n",
    "\n",
    "df_train = df2[:int(len(df2)*0.8)]\n",
    "df_test = df2.drop(df_train.index)\n",
    "df_val = df_test[:int(len(df_test)*0.5)]\n",
    "df_test = df_test.drop(df_val.index)"
   ]
  },
  {
   "cell_type": "markdown",
   "metadata": {},
   "source": [
    "## The Network"
   ]
  },
  {
   "cell_type": "code",
   "execution_count": 39,
   "metadata": {},
   "outputs": [],
   "source": [
    "### QUANTUM CLASS ###\n",
    "\n",
    "# rotation block:\n",
    "rot = QuantumCircuit(1)\n",
    "params = ParameterVector('r', 1)\n",
    "rot.ry(params[0], 0)\n",
    "\n",
    "# entanglement block:\n",
    "ent = QuantumCircuit(2)\n",
    "ent.cx(0, 1)\n",
    "\n",
    "class InitialStateQC:\n",
    "    def __init__(self, n_qubits):\n",
    "        self._circuit = qiskit.QuantumCircuit(n_qubits)\n",
    "        params = ParameterVector('φ', n_qubits)\n",
    "        \n",
    "        for i in range(n_qubits):\n",
    "            self._circuit.ry(params[i], i)\n",
    "\n",
    "\n",
    "class MyQuantumCircuit:\n",
    "    def __init__(self, n_qubits, backend, input_circ = None, shots = 1024, reps = 2, measure = True):\n",
    "        if(n_qubits == 1):\n",
    "            qc_nlocal = NLocal(num_qubits=1, rotation_blocks=rot, entanglement='linear',\n",
    "                skip_final_rotation_layer=True, insert_barriers=True, reps=reps, initial_state=input_circ)#\n",
    "        else:\n",
    "            qc_nlocal = NLocal(num_qubits=n_qubits, rotation_blocks=rot,\n",
    "                entanglement_blocks=ent, entanglement='linear',\n",
    "                skip_final_rotation_layer=True, insert_barriers=True, reps=reps, initial_state=input_circ)\n",
    "\n",
    "        qc_nlocal = qc_nlocal.decompose()\n",
    "        qc_nlocal = RemoveBarriers()(qc_nlocal)\n",
    "        if(measure):\n",
    "            out_size = int(math.log(n_qubits, 2))\n",
    "            qc_nlocal.add_register(ClassicalRegister(out_size))\n",
    "            for i in range(out_size - 1, -1, -1) :\n",
    "                qc_nlocal.measure(n_qubits - i - 1, i)\n",
    "        self._circuit = qc_nlocal\n",
    "\n",
    "        self.backend = backend\n",
    "        self.shots = shots\n",
    "        self.num_qubit = n_qubits\n",
    "    \n",
    "    def run(self, param, backend = None, shots = 0):\n",
    "        if (backend == None):\n",
    "            backend = self.backend\n",
    "        if (shots == 0):\n",
    "            shots = self.shots\n",
    "\n",
    "\n",
    "        t_qc = transpile(self._circuit.assign_parameters(param.cpu().data.numpy()), backend)\n",
    "        job = backend.run(t_qc)\n",
    "        result = job.result().get_counts()\n",
    "\n",
    "        return result"
   ]
  },
  {
   "cell_type": "code",
   "execution_count": 40,
   "metadata": {},
   "outputs": [
    {
     "name": "stderr",
     "output_type": "stream",
     "text": [
      "No interpret function given, output_shape will be automatically determined as 2^num_qubits.\n"
     ]
    }
   ],
   "source": [
    "def create_qnn(num_classes = 2):\n",
    "    feature_map = InitialStateQC(num_classes)._circuit\n",
    "    ansatz = MyQuantumCircuit(num_classes, AerSimulator(), measure = False, reps = q_reps)._circuit\n",
    "    qc = QuantumCircuit(num_classes)\n",
    "    qc.compose(feature_map, inplace=True)\n",
    "    qc.compose(ansatz, inplace=True)\n",
    "\n",
    "    qnn = SamplerQNN(\n",
    "        circuit=qc,\n",
    "        input_params=feature_map.parameters,\n",
    "        weight_params=ansatz.parameters,\n",
    "        output_shape=num_classes,\n",
    "        input_gradients=True\n",
    "    )\n",
    "    return qnn\n",
    "\n",
    "qnn = create_qnn(num_classes)"
   ]
  },
  {
   "cell_type": "code",
   "execution_count": 41,
   "metadata": {},
   "outputs": [
    {
     "name": "stdout",
     "output_type": "stream",
     "text": [
      "QNet(\n",
      "  (layer_2): Linear(in_features=1160, out_features=256, bias=True)\n",
      "  (layer_3): Linear(in_features=256, out_features=64, bias=True)\n",
      "  (layer_qin): Linear(in_features=64, out_features=2, bias=True)\n",
      "  (layer_qout): Linear(in_features=4, out_features=1, bias=True)\n",
      "  (relu): ReLU()\n",
      "  (sigmoid): Sigmoid()\n",
      "  (dropout): Dropout(p=0.1, inplace=False)\n",
      "  (qlayer): TorchConnector()\n",
      ")\n"
     ]
    },
    {
     "name": "stderr",
     "output_type": "stream",
     "text": [
      "c:\\Users\\Александр\\AppData\\Local\\Programs\\Python\\Python311\\Lib\\site-packages\\qiskit_machine_learning\\connectors\\torch_connector.py:306: UserWarning: To copy construct from a tensor, it is recommended to use sourceTensor.clone().detach() or sourceTensor.clone().detach().requires_grad_(True), rather than torch.tensor(sourceTensor).\n",
      "  self._weights.data = torch.tensor(initial_weights, dtype=torch.float)\n"
     ]
    }
   ],
   "source": [
    "n_input_dim = max_len\n",
    "n_hidden2 = 256\n",
    "n_hidden3 = 64\n",
    "num_q = num_classes\n",
    "n_output =  1\n",
    "\n",
    "\n",
    "class QNet(nn.Module):\n",
    "    def __init__(self):\n",
    "        super(QNet, self).__init__()\n",
    "        self.layer_2 = nn.Linear(n_input_dim, n_hidden2)\n",
    "        self.layer_3 = nn.Linear(n_hidden2, n_hidden3)\n",
    "        self.layer_qin = nn.Linear(n_hidden3, num_q)\n",
    "        self.layer_qout = nn.Linear(2**num_q, n_output) \n",
    "        \n",
    "        self.relu = nn.ReLU()\n",
    "        self.sigmoid =  nn.Sigmoid()\n",
    "        self.dropout = nn.Dropout(p=0.1)\n",
    "\n",
    "        self.qlayer = TorchConnector(qnn, initial_weights=torch.zeros(num_classes*q_reps))\n",
    "        \n",
    "        \n",
    "    def forward(self, inputs):\n",
    "        x = self.relu(self.layer_2(inputs))\n",
    "        x = self.dropout(x)\n",
    "        x = self.relu(self.layer_3(x))\n",
    "        x = self.dropout(x)\n",
    "        x = self.relu(self.layer_qin(x))\n",
    "        x = self.qlayer(x)\n",
    "        x = self.sigmoid(self.layer_qout(x))\n",
    "        \n",
    "        return x\n",
    "    \n",
    "model = QNet()\n",
    "print(model)"
   ]
  },
  {
   "cell_type": "code",
   "execution_count": 42,
   "metadata": {
    "colab": {
     "base_uri": "https://localhost:8080/",
     "height": 437
    },
    "id": "jA8-TNMwtKks",
    "outputId": "a7c4c711-bc23-4835-e1a8-0d9232d8b050"
   },
   "outputs": [],
   "source": [
    "optimizer = torch.optim.Adam(model.parameters(), lr=initial_lr, weight_decay=w_decay, amsgrad=True)\n",
    "loss_fn = nn.BCELoss()\n",
    "\n",
    "def train_loop(dataloader, model, loss_fn, optimizer, history):\n",
    "    size = len(dataloader)\n",
    "\n",
    "    loss_, accuracy = 0, 0\n",
    "    for row in dataloader.iterrows():\n",
    "        pred = model(torch.tensor(row[1]['text_vec'], dtype=torch.float, requires_grad=True)).float()\n",
    "        loss = loss_fn(pred, torch.tensor([row[1]['val']]).float())\n",
    "        optimizer.zero_grad()\n",
    "        loss.backward()\n",
    "        optimizer.step()\n",
    "\n",
    "        loss_ += loss.item()\n",
    "        accuracy += (round(pred[0].tolist()) == row[1]['val'])\n",
    "    \n",
    "    loss_ /= size\n",
    "    accuracy /= size\n",
    "    print(loss_, accuracy)\n",
    "    history['train_loss'].append(loss_)\n",
    "    history['train_accuracy'].append(accuracy)\n",
    "    return loss_, accuracy\n",
    "\n",
    "\n",
    "def val_loop(dataloader, model, loss_fn, history):\n",
    "    size = len(dataloader)\n",
    "    loss, accuracy = 0, 0\n",
    "\n",
    "    with torch.no_grad():\n",
    "        for row in dataloader.iterrows():\n",
    "            \n",
    "            pred = model(torch.tensor(row[1]['text_vec'], dtype=torch.float, requires_grad=True)).float()\n",
    "            loss += loss_fn(pred, torch.tensor([row[1]['val']]).float())\n",
    "            accuracy += (round(pred[0].tolist()) == row[1]['val'])\n",
    "\n",
    "    loss /= size\n",
    "    accuracy /= size\n",
    "    print(loss.item(), accuracy)\n",
    "    history['val_loss'].append(loss.item())\n",
    "    history['val_accuracy'].append(accuracy)\n",
    "    return loss, accuracy\n",
    "\n",
    "def test_loop(dataloader, model, loss_fn, history, num_classes):\n",
    "    size = len(dataloader)\n",
    "    count = []\n",
    "\n",
    "    for i in range(num_classes):\n",
    "        count.append(0)\n",
    "\n",
    "    with torch.no_grad():\n",
    "        for row in dataloader.iterrows():\n",
    "            \n",
    "            pred = model(torch.tensor(row[1]['text_vec'], dtype=torch.float, requires_grad=True)).float()\n",
    "            count[row[1]['val']] += 1\n",
    "            history['test_loss'][row[1]['val']][0] += (loss_fn(pred, torch.tensor([row[1]['val']]).float())/100).item()\n",
    "            history['test_accuracy'][row[1]['val']][0] += round(pred[0].tolist()) == row[1]['val']\n",
    "\n",
    "    loss, accuracy = 0, 0\n",
    "    for i in range(num_classes):\n",
    "        history['test_loss'][i][0] /= size\n",
    "        loss += history['test_loss'][i][0]\n",
    "        history['test_accuracy'][i][0] /= count[i]\n",
    "        accuracy += history['test_accuracy'][i][0]\n",
    "\n",
    "    loss /= num_classes\n",
    "    accuracy /= num_classes\n",
    "    \n",
    "    return loss, accuracy"
   ]
  },
  {
   "cell_type": "code",
   "execution_count": 43,
   "metadata": {},
   "outputs": [],
   "source": [
    "history = {\n",
    "    'train_loss':[],\n",
    "    'train_accuracy':[],\n",
    "    'val_loss':[],\n",
    "    'val_accuracy':[],\n",
    "    'test_loss':[],\n",
    "    'test_accuracy':[]\n",
    "}\n",
    "\n",
    "for i in range(num_classes):\n",
    "    history['test_loss'].append([0])\n",
    "    history['test_accuracy'].append([0])\n"
   ]
  },
  {
   "cell_type": "code",
   "execution_count": 44,
   "metadata": {},
   "outputs": [
    {
     "name": "stderr",
     "output_type": "stream",
     "text": [
      "00:05 Elapsed |   3% done |▎         | 1/30 [02:31 remaining |  5.24s/epoch]"
     ]
    },
    {
     "name": "stdout",
     "output_type": "stream",
     "text": [
      "0.7555750743264243 0.43452380952380953\n",
      "0.6832948923110962 0.5238095238095238\n"
     ]
    },
    {
     "name": "stderr",
     "output_type": "stream",
     "text": [
      "00:10 Elapsed |   7% done |▋         | 2/30 [02:19 remaining |  4.98s/epoch]"
     ]
    },
    {
     "name": "stdout",
     "output_type": "stream",
     "text": [
      "0.6701317480987027 0.44642857142857145\n",
      "0.6570860743522644 0.5238095238095238\n"
     ]
    },
    {
     "name": "stderr",
     "output_type": "stream",
     "text": [
      "00:14 Elapsed |  10% done |█         | 3/30 [02:12 remaining |  4.90s/epoch]"
     ]
    },
    {
     "name": "stdout",
     "output_type": "stream",
     "text": [
      "0.6220380458093825 0.6547619047619048\n",
      "0.643944263458252 0.6666666666666666\n"
     ]
    },
    {
     "name": "stderr",
     "output_type": "stream",
     "text": [
      "00:19 Elapsed |  13% done |█▎        | 4/30 [02:06 remaining |  4.88s/epoch]"
     ]
    },
    {
     "name": "stdout",
     "output_type": "stream",
     "text": [
      "0.585073473375468 0.8869047619047619\n",
      "0.6408175230026245 0.6666666666666666\n"
     ]
    },
    {
     "name": "stderr",
     "output_type": "stream",
     "text": [
      "00:24 Elapsed |  17% done |█▋        | 5/30 [02:01 remaining |  4.84s/epoch]"
     ]
    },
    {
     "name": "stdout",
     "output_type": "stream",
     "text": [
      "0.5576954356261662 0.9583333333333334\n",
      "0.6324120759963989 0.7142857142857143\n"
     ]
    },
    {
     "name": "stderr",
     "output_type": "stream",
     "text": [
      "00:29 Elapsed |  20% done |██        | 6/30 [01:57 remaining |  4.88s/epoch]"
     ]
    },
    {
     "name": "stdout",
     "output_type": "stream",
     "text": [
      "0.5348660562719617 0.9642857142857143\n",
      "0.6395684480667114 0.6666666666666666\n"
     ]
    },
    {
     "name": "stderr",
     "output_type": "stream",
     "text": [
      "00:34 Elapsed |  23% done |██▎       | 7/30 [01:51 remaining |  4.84s/epoch]"
     ]
    },
    {
     "name": "stdout",
     "output_type": "stream",
     "text": [
      "0.5131832501363187 0.9702380952380952\n",
      "0.6381675601005554 0.6666666666666666\n"
     ]
    },
    {
     "name": "stderr",
     "output_type": "stream",
     "text": [
      "00:39 Elapsed |  27% done |██▋       | 8/30 [01:47 remaining |  4.90s/epoch]"
     ]
    },
    {
     "name": "stdout",
     "output_type": "stream",
     "text": [
      "0.4890876939254148 0.9940476190476191\n",
      "0.627055287361145 0.6666666666666666\n"
     ]
    },
    {
     "name": "stderr",
     "output_type": "stream",
     "text": [
      "00:44 Elapsed |  30% done |███       | 9/30 [01:43 remaining |  4.91s/epoch]"
     ]
    },
    {
     "name": "stdout",
     "output_type": "stream",
     "text": [
      "0.46712313042510123 0.9940476190476191\n",
      "0.6142038106918335 0.6666666666666666\n"
     ]
    },
    {
     "name": "stderr",
     "output_type": "stream",
     "text": [
      "00:49 Elapsed |  33% done |███▎      | 10/30 [01:38 remaining |  4.91s/epoch]"
     ]
    },
    {
     "name": "stdout",
     "output_type": "stream",
     "text": [
      "0.44920933299830984 0.9940476190476191\n",
      "0.5967860817909241 0.7619047619047619\n"
     ]
    },
    {
     "name": "stderr",
     "output_type": "stream",
     "text": [
      "00:54 Elapsed |  37% done |███▋      | 11/30 [01:34 remaining |  4.95s/epoch]"
     ]
    },
    {
     "name": "stdout",
     "output_type": "stream",
     "text": [
      "0.42589552682780085 0.9940476190476191\n",
      "0.6010534763336182 0.7142857142857143\n"
     ]
    },
    {
     "name": "stderr",
     "output_type": "stream",
     "text": [
      "00:59 Elapsed |  40% done |████      | 12/30 [01:29 remaining |  4.97s/epoch]"
     ]
    },
    {
     "name": "stdout",
     "output_type": "stream",
     "text": [
      "0.4053960822167851 1.0\n",
      "0.5935584306716919 0.7142857142857143\n"
     ]
    },
    {
     "name": "stderr",
     "output_type": "stream",
     "text": [
      "01:04 Elapsed |  43% done |████▎     | 13/30 [01:24 remaining |  4.96s/epoch]"
     ]
    },
    {
     "name": "stdout",
     "output_type": "stream",
     "text": [
      "0.3920366320581663 1.0\n",
      "0.6023843884468079 0.7142857142857143\n"
     ]
    },
    {
     "name": "stderr",
     "output_type": "stream",
     "text": [
      "01:08 Elapsed |  47% done |████▋     | 14/30 [01:19 remaining |  4.95s/epoch]"
     ]
    },
    {
     "name": "stdout",
     "output_type": "stream",
     "text": [
      "0.3755085271384035 1.0\n",
      "0.5795173048973083 0.6666666666666666\n"
     ]
    },
    {
     "name": "stderr",
     "output_type": "stream",
     "text": [
      "01:13 Elapsed |  50% done |█████     | 15/30 [01:13 remaining |  4.93s/epoch]"
     ]
    },
    {
     "name": "stdout",
     "output_type": "stream",
     "text": [
      "0.36182151752568426 1.0\n",
      "0.5856541991233826 0.6666666666666666\n"
     ]
    },
    {
     "name": "stderr",
     "output_type": "stream",
     "text": [
      "01:18 Elapsed |  53% done |█████▎    | 16/30 [01:09 remaining |  4.93s/epoch]"
     ]
    },
    {
     "name": "stdout",
     "output_type": "stream",
     "text": [
      "0.34965615435725167 1.0\n",
      "0.564415454864502 0.7619047619047619\n"
     ]
    },
    {
     "name": "stderr",
     "output_type": "stream",
     "text": [
      "01:23 Elapsed |  57% done |█████▋    | 17/30 [01:04 remaining |  4.94s/epoch]"
     ]
    },
    {
     "name": "stdout",
     "output_type": "stream",
     "text": [
      "0.3409065872076012 1.0\n",
      "0.5785365104675293 0.6666666666666666\n"
     ]
    },
    {
     "name": "stderr",
     "output_type": "stream",
     "text": [
      "01:29 Elapsed |  60% done |██████    | 18/30 [01:00 remaining |  5.08s/epoch]"
     ]
    },
    {
     "name": "stdout",
     "output_type": "stream",
     "text": [
      "0.3265501104650043 1.0\n",
      "0.5808840394020081 0.7142857142857143\n"
     ]
    },
    {
     "name": "stderr",
     "output_type": "stream",
     "text": [
      "01:34 Elapsed |  63% done |██████▎   | 19/30 [00:57 remaining |  5.22s/epoch]"
     ]
    },
    {
     "name": "stdout",
     "output_type": "stream",
     "text": [
      "0.31195173589956193 1.0\n",
      "0.5673842430114746 0.6666666666666666\n"
     ]
    },
    {
     "name": "stderr",
     "output_type": "stream",
     "text": [
      "01:40 Elapsed |  67% done |██████▋   | 20/30 [00:52 remaining |  5.28s/epoch]"
     ]
    },
    {
     "name": "stdout",
     "output_type": "stream",
     "text": [
      "0.2994240623499666 1.0\n",
      "0.5613574385643005 0.6666666666666666\n"
     ]
    },
    {
     "name": "stderr",
     "output_type": "stream",
     "text": [
      "01:45 Elapsed |  70% done |███████   | 21/30 [00:48 remaining |  5.39s/epoch]"
     ]
    },
    {
     "name": "stdout",
     "output_type": "stream",
     "text": [
      "0.28925141798598425 1.0\n",
      "0.5728090405464172 0.7619047619047619\n"
     ]
    },
    {
     "name": "stderr",
     "output_type": "stream",
     "text": [
      "01:51 Elapsed |  73% done |███████▎  | 22/30 [00:43 remaining |  5.49s/epoch]"
     ]
    },
    {
     "name": "stdout",
     "output_type": "stream",
     "text": [
      "0.2798615795161043 0.9940476190476191\n",
      "0.5310094356536865 0.7142857142857143\n"
     ]
    },
    {
     "name": "stderr",
     "output_type": "stream",
     "text": [
      "01:57 Elapsed |  77% done |███████▋  | 23/30 [00:38 remaining |  5.50s/epoch]"
     ]
    },
    {
     "name": "stdout",
     "output_type": "stream",
     "text": [
      "0.2719897644683009 1.0\n",
      "0.5565961003303528 0.7142857142857143\n"
     ]
    },
    {
     "name": "stderr",
     "output_type": "stream",
     "text": [
      "02:02 Elapsed |  80% done |████████  | 24/30 [00:33 remaining |  5.54s/epoch]"
     ]
    },
    {
     "name": "stdout",
     "output_type": "stream",
     "text": [
      "0.2590810401099069 1.0\n",
      "0.5573669672012329 0.7142857142857143\n"
     ]
    },
    {
     "name": "stderr",
     "output_type": "stream",
     "text": [
      "02:08 Elapsed |  83% done |████████▎ | 25/30 [00:27 remaining |  5.55s/epoch]"
     ]
    },
    {
     "name": "stdout",
     "output_type": "stream",
     "text": [
      "0.25664371757635046 1.0\n",
      "0.5951132774353027 0.6666666666666666\n"
     ]
    },
    {
     "name": "stderr",
     "output_type": "stream",
     "text": [
      "02:13 Elapsed |  87% done |████████▋ | 26/30 [00:22 remaining |  5.58s/epoch]"
     ]
    },
    {
     "name": "stdout",
     "output_type": "stream",
     "text": [
      "0.24585232688557535 1.0\n",
      "0.5687040686607361 0.6666666666666666\n"
     ]
    },
    {
     "name": "stderr",
     "output_type": "stream",
     "text": [
      "02:19 Elapsed |  90% done |█████████ | 27/30 [00:16 remaining |  5.58s/epoch]"
     ]
    },
    {
     "name": "stdout",
     "output_type": "stream",
     "text": [
      "0.2389280012853089 1.0\n",
      "0.5152801275253296 0.7142857142857143\n"
     ]
    },
    {
     "name": "stderr",
     "output_type": "stream",
     "text": [
      "02:25 Elapsed |  93% done |█████████▎| 28/30 [00:11 remaining |  5.59s/epoch]"
     ]
    },
    {
     "name": "stdout",
     "output_type": "stream",
     "text": [
      "0.23020530554155508 1.0\n",
      "0.5632673501968384 0.7142857142857143\n"
     ]
    },
    {
     "name": "stderr",
     "output_type": "stream",
     "text": [
      "02:30 Elapsed |  97% done |█████████▋| 29/30 [00:05 remaining |  5.61s/epoch]"
     ]
    },
    {
     "name": "stdout",
     "output_type": "stream",
     "text": [
      "0.2236569622265441 1.0\n",
      "0.5493422150611877 0.7142857142857143\n"
     ]
    },
    {
     "name": "stderr",
     "output_type": "stream",
     "text": [
      "02:36 Elapsed | 100% done |██████████| 30/30 [00:00 remaining |  5.21s/epoch]"
     ]
    },
    {
     "name": "stdout",
     "output_type": "stream",
     "text": [
      "0.21830624696754275 1.0\n",
      "0.5346630215644836 0.7619047619047619\n",
      "train loss and accuracy:  0.21830624696754275 1.0\n",
      "val loss and accuracy:  0.5346630215644836 0.7619047619047619\n"
     ]
    },
    {
     "name": "stderr",
     "output_type": "stream",
     "text": [
      "\n"
     ]
    }
   ],
   "source": [
    "if(train_flag):\n",
    "    for t in tqdm(range(epochs), bar_format=\"{elapsed} Elapsed | {percentage:3.0f}% done |{bar}| {n_fmt}/{total_fmt} [{remaining} remaining | {rate_fmt}{postfix}]\", unit=\"epoch\", total=epochs):\n",
    "        train_loop(df_train, model, loss_fn, optimizer, history)\n",
    "        val_loop(df_val, model, loss_fn, history)\n",
    "    print(\"train loss and accuracy: \", history['train_loss'][-1], history['train_accuracy'][-1])\n",
    "    print(\"val loss and accuracy: \", history['val_loss'][-1], history['val_accuracy'][-1])\n",
    "else:\n",
    "    model.load_state_dict(torch.load(\"param3_q.pth\", weights_only=True))\n",
    "    model.eval()"
   ]
  },
  {
   "cell_type": "code",
   "execution_count": 45,
   "metadata": {},
   "outputs": [
    {
     "data": {
      "image/png": "[encoded data removed]",
      "text/plain": [
       "<Figure size 800x800 with 2 Axes>"
      ]
     },
     "metadata": {},
     "output_type": "display_data"
    }
   ],
   "source": [
    "if(train_flag):\n",
    "    epochs_range = range(epochs)\n",
    "    plt.figure(figsize=(8, 8))\n",
    "    plt.subplot(1, 2, 1)\n",
    "    plt.plot(epochs_range, history['train_accuracy'], label='Training Accuracy', color='red')\n",
    "    plt.plot(epochs_range, history['val_accuracy'], label='Validation Accuracy', color='blue')\n",
    "    plt.legend(loc='lower right')\n",
    "    plt.title('Training and Validation Accuracy')\n",
    "    plt.grid()\n",
    "\n",
    "    plt.subplot(1, 2, 2)\n",
    "    plt.plot(epochs_range, history['train_loss'], label='Training Loss', color='red')\n",
    "    plt.plot(epochs_range, history['val_loss'], label='Validation Loss', color='blue')\n",
    "    plt.legend(loc='lower left')\n",
    "    plt.title('Training and Validation Loss')\n",
    "    plt.grid()\n",
    "    plt.show()\n"
   ]
  },
  {
   "cell_type": "code",
   "execution_count": 46,
   "metadata": {},
   "outputs": [
    {
     "name": "stdout",
     "output_type": "stream",
     "text": [
      "test loss and accuracy:  0.002919981799398859 0.84375\n",
      "test loss and accuracy on target  0 :  0.0007111543700808571 1.0\n",
      "test loss and accuracy on target  1 :  0.005128809228716861 0.6875\n"
     ]
    }
   ],
   "source": [
    "tloss, tacc = test_loop(df_test, model, loss_fn, history, 2)\n",
    "print(\"test loss and accuracy: \", tloss, tacc)\n",
    "for i in range (num_classes):\n",
    "    print(\"test loss and accuracy on target \", i, \": \", history['test_loss'][i][0], history['test_accuracy'][i][0])"
   ]
  },
  {
   "cell_type": "code",
   "execution_count": 47,
   "metadata": {},
   "outputs": [],
   "source": [
    "if(train_flag):\n",
    "    torch.save(model.state_dict(), 'param3_q.pth')"
   ]
  }
 ],
 "metadata": {
  "accelerator": "TPU",
  "colab": {
   "provenance": []
  },
  "gpuClass": "standard",
  "kernelspec": {
   "display_name": "Python 3",
   "language": "python",
   "name": "python3"
  },
  "language_info": {
   "codemirror_mode": {
    "name": "ipython",
    "version": 3
   },
   "file_extension": ".py",
   "mimetype": "text/x-python",
   "name": "python",
   "nbconvert_exporter": "python",
   "pygments_lexer": "ipython3",
   "version": "3.11.5"
  },
  "orig_nbformat": 4
 },
 "nbformat": 4,
 "nbformat_minor": 0
}
